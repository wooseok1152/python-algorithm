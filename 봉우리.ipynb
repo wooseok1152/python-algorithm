{
 "cells": [
  {
   "cell_type": "code",
   "execution_count": 34,
   "metadata": {},
   "outputs": [
    {
     "name": "stdout",
     "output_type": "stream",
     "text": [
      "7 \n",
      "\n",
      "processed_input_matrix : [[0, 0, 0, 0, 0, 0, 0], [0, 5, 3, 7, 2, 3, 0], [0, 3, 7, 1, 6, 1, 0], [0, 7, 2, 5, 3, 4, 0], [0, 4, 3, 6, 4, 1, 0], [0, 8, 7, 3, 5, 2, 0], [0, 0, 0, 0, 0, 0, 0, 0]] \n",
      "\n",
      "10\n"
     ]
    }
   ],
   "source": [
    "input_matrix = [[5, 3, 7, 2, 3],\n",
    "               [3, 7, 1, 6, 1],\n",
    "               [7, 2, 5, 3, 4],\n",
    "               [4, 3, 6, 4, 1],\n",
    "               [8, 7, 3, 5, 2]]\n",
    "\n",
    "def count_highest_point():\n",
    "    \n",
    "    # top & bottom zero padding\n",
    "    input_matrix.insert(0, [0]*(len(input_matrix)+2))\n",
    "    input_matrix.insert(len(input_matrix)+1, [0]*(len(input_matrix)+2))\n",
    "#     print(input_matrix, \"\\n\")\n",
    "    print(len(input_matrix), \"\\n\")\n",
    "    \n",
    "    # zero padding in all row side\n",
    "    for i in range(1, len(input_matrix)-1):\n",
    "        \n",
    "        input_matrix[i].insert(0, 0)\n",
    "        input_matrix[i].insert(len(input_matrix[i]), 0)\n",
    "        \n",
    "    print(\"processed_input_matrix :\", input_matrix, \"\\n\")\n",
    "    \n",
    "    # find_highest_point\n",
    "    count = 0\n",
    "    for i in range(1, len(input_matrix)-1):\n",
    "        \n",
    "        for j in range(1, len(input_matrix)-1):\n",
    "            \n",
    "            target = input_matrix[i][j]\n",
    "            n = input_matrix[i-1][j]\n",
    "            s = input_matrix[i+1][j]\n",
    "            w = input_matrix[i][j-1]\n",
    "            e = input_matrix[i][j+1]\n",
    "            news_list = [n, s, w, e]\n",
    "            news_max_value = max(news_list)\n",
    "            if target > news_max_value:\n",
    "                \n",
    "                count = count + 1\n",
    "    \n",
    "    print(count)\n",
    "    \n",
    "    \n",
    "    \n",
    "count_highest_point()"
   ]
  }
 ],
 "metadata": {
  "kernelspec": {
   "display_name": "Python 3",
   "language": "python",
   "name": "python3"
  },
  "language_info": {
   "codemirror_mode": {
    "name": "ipython",
    "version": 3
   },
   "file_extension": ".py",
   "mimetype": "text/x-python",
   "name": "python",
   "nbconvert_exporter": "python",
   "pygments_lexer": "ipython3",
   "version": "3.7.1"
  }
 },
 "nbformat": 4,
 "nbformat_minor": 2
}
