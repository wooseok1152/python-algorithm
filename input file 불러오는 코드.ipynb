{
 "cells": [
  {
   "cell_type": "code",
   "execution_count": null,
   "metadata": {},
   "outputs": [],
   "source": [
    "text_file = open(\"C:/Users/my/Desktop/Documents/파이썬 알고리즘 문제풀이(코딩테스트 대비)/섹션 2/9. 주사위 게임/in2.txt\")\n",
    "lines = text_file.readlines()\n",
    "# print(lines)\n",
    "\n",
    "new_input = []\n",
    "for i in range(len(lines)):\n",
    "    \n",
    "    if i == 0:\n",
    "        \n",
    "        continue\n",
    "    \n",
    "    element = lines[i].rstrip(\"\\n\")\n",
    "    element = element.strip()\n",
    "    element_digit_list = element.split()\n",
    "    element_digit_list_with_int = []\n",
    "    for i in element_digit_list:\n",
    "        \n",
    "        element_digit_list_with_int.append(int(i))\n",
    "    \n",
    "    element_digit_tuple = tuple(element_digit_list_with_int)\n",
    "    new_input.append(element_digit_tuple)\n",
    "    \n",
    "print(new_input)\n",
    "text_file.close()"
   ]
  }
 ],
 "metadata": {
  "kernelspec": {
   "display_name": "Python 3",
   "language": "python",
   "name": "python3"
  },
  "language_info": {
   "codemirror_mode": {
    "name": "ipython",
    "version": 3
   },
   "file_extension": ".py",
   "mimetype": "text/x-python",
   "name": "python",
   "nbconvert_exporter": "python",
   "pygments_lexer": "ipython3",
   "version": "3.7.1"
  }
 },
 "nbformat": 4,
 "nbformat_minor": 2
}
