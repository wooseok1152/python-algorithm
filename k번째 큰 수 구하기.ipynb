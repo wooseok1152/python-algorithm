{
 "cells": [
  {
   "cell_type": "code",
   "execution_count": 79,
   "metadata": {},
   "outputs": [
    {
     "name": "stdout",
     "output_type": "stream",
     "text": [
      "[7, 2, 4, 2, 2, 1, 5, 5, 4, 7] \n",
      "\n",
      "[[7, 2, 4], [7, 2, 2], [7, 2, 2], [7, 2, 1], [7, 2, 5], [7, 2, 5], [7, 2, 4], [7, 2, 7], [7, 4, 2], [7, 4, 2], [7, 4, 1], [7, 4, 5], [7, 4, 5], [7, 4, 4], [7, 4, 7], [7, 2, 2], [7, 2, 1], [7, 2, 5], [7, 2, 5], [7, 2, 4], [7, 2, 7], [7, 2, 1], [7, 2, 5], [7, 2, 5], [7, 2, 4], [7, 2, 7], [7, 1, 5], [7, 1, 5], [7, 1, 4], [7, 1, 7], [7, 5, 5], [7, 5, 4], [7, 5, 7], [7, 5, 4], [7, 5, 7], [7, 4, 7], [2, 4, 2], [2, 4, 2], [2, 4, 1], [2, 4, 5], [2, 4, 5], [2, 4, 4], [2, 4, 7], [2, 2, 2], [2, 2, 1], [2, 2, 5], [2, 2, 5], [2, 2, 4], [2, 2, 7], [2, 2, 1], [2, 2, 5], [2, 2, 5], [2, 2, 4], [2, 2, 7], [2, 1, 5], [2, 1, 5], [2, 1, 4], [2, 1, 7], [2, 5, 5], [2, 5, 4], [2, 5, 7], [2, 5, 4], [2, 5, 7], [2, 4, 7], [4, 2, 2], [4, 2, 1], [4, 2, 5], [4, 2, 5], [4, 2, 4], [4, 2, 7], [4, 2, 1], [4, 2, 5], [4, 2, 5], [4, 2, 4], [4, 2, 7], [4, 1, 5], [4, 1, 5], [4, 1, 4], [4, 1, 7], [4, 5, 5], [4, 5, 4], [4, 5, 7], [4, 5, 4], [4, 5, 7], [4, 4, 7], [2, 2, 1], [2, 2, 5], [2, 2, 5], [2, 2, 4], [2, 2, 7], [2, 1, 5], [2, 1, 5], [2, 1, 4], [2, 1, 7], [2, 5, 5], [2, 5, 4], [2, 5, 7], [2, 5, 4], [2, 5, 7], [2, 4, 7], [2, 1, 5], [2, 1, 5], [2, 1, 4], [2, 1, 7], [2, 5, 5], [2, 5, 4], [2, 5, 7], [2, 5, 4], [2, 5, 7], [2, 4, 7], [1, 5, 5], [1, 5, 4], [1, 5, 7], [1, 5, 4], [1, 5, 7], [1, 4, 7], [5, 5, 4], [5, 5, 7], [5, 4, 7], [5, 4, 7]] \n",
      "\n",
      "[5, 6, 7, 8, 9, 10, 11, 12, 13, 14, 15, 16, 17, 18, 19] \n",
      "\n",
      "17\n"
     ]
    }
   ],
   "source": [
    "import random\n",
    "\n",
    "def k_th_big_number(n, k):\n",
    "    \n",
    "    all_possible_cases = []\n",
    "    all_possible_cases_sum = []\n",
    "    \n",
    "    # np.random.choice : 중복을 허용하여 리스트내 원소들 중 n개 뽑기\n",
    "    random_int_list = np.random.choice(range(1, 11), 10)\n",
    "    random_int_list = list(random_int_list)\n",
    "    #random_int_list = [18, 54, 46, 52, 28, 22, 23, 53, 28, 40] \n",
    "    print(random_int_list, \"\\n\")\n",
    "    \n",
    "    for i in range(len(random_int_list)):\n",
    "        \n",
    "        for j in range(i+1, len(random_int_list)):\n",
    "            \n",
    "            for l in range(j+1, len(random_int_list)):\n",
    "                \n",
    "                all_possible_cases.append([random_int_list[i], random_int_list[j], random_int_list[l]])\n",
    "                \n",
    "    print(all_possible_cases, \"\\n\")\n",
    "                \n",
    "    for i in range(len(all_possible_cases)):\n",
    "        \n",
    "        # sum : 리스트 내 모든 요소를 합하는 함수\n",
    "        list_sum = sum(all_possible_cases[i])\n",
    "        all_possible_cases_sum.append(list_sum)\n",
    "    \n",
    "    all_possible_cases_sum = set(all_possible_cases_sum)\n",
    "    all_possible_cases_sum = sorted(all_possible_cases_sum)\n",
    "    print(all_possible_cases_sum, \"\\n\")\n",
    "    k_big_int = all_possible_cases_sum[-k]\n",
    "    print(k_big_int)\n",
    "    \n",
    "    \n",
    "    \n",
    "k_th_big_number(10, 3)"
   ]
  }
 ],
 "metadata": {
  "kernelspec": {
   "display_name": "Python 3",
   "language": "python",
   "name": "python3"
  },
  "language_info": {
   "codemirror_mode": {
    "name": "ipython",
    "version": 3
   },
   "file_extension": ".py",
   "mimetype": "text/x-python",
   "name": "python",
   "nbconvert_exporter": "python",
   "pygments_lexer": "ipython3",
   "version": "3.7.1"
  }
 },
 "nbformat": 4,
 "nbformat_minor": 2
}
