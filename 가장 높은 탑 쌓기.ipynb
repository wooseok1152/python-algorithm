{
 "cells": [
  {
   "cell_type": "code",
   "execution_count": 13,
   "metadata": {},
   "outputs": [
    {
     "name": "stdout",
     "output_type": "stream",
     "text": [
      "10\n"
     ]
    }
   ],
   "source": [
    "'''\n",
    "input file에 적혀있는 벽돌 순서로 무조건 쌓을 필요는 없다.\n",
    "이 답변은 input file에 적혀있는 벽돌 순으로 쌓았을 때 그에 해당하는 답이다. 그래서 해당 답변은 틀린 것이다.\n",
    "'''\n",
    "\n",
    "input_list = [(25, 3, 4), (4, 4, 6), (9, 2, 3), (16, 2, 5), (1, 5, 2)]\n",
    "input_list.insert(0, (0,0,0))\n",
    "memo = [0] * len(input_list)\n",
    "memo[1] = input_list[1]\n",
    "# print(\"input_list :\", input_list, len(input_list))\n",
    "# print(\"memo :\", memo, len(memo), \"\\n\")\n",
    "\n",
    "for i in range(2, len(input_list)):\n",
    "    \n",
    "    max_ = (0, 0, 0)\n",
    "    target = input_list[i]\n",
    "    for j in range(i - 1, 0, -1):\n",
    "        \n",
    "        if target[0] < memo[j][0] and target[2] < memo[j][2]:\n",
    "            \n",
    "            candidate = (target[0], target[1] + memo[j][1], target[2])\n",
    "            if candidate[1] > max_[1]:\n",
    "                \n",
    "                max_ = candidate\n",
    "        else:\n",
    "            \n",
    "            if target[1] > memo[j][1] :\n",
    "                \n",
    "                candidate = target\n",
    "                if candidate[1] > max_[1]:\n",
    "                \n",
    "                    max_ = candidate\n",
    "\n",
    "            else:\n",
    "                \n",
    "                candidate = memo[j]\n",
    "                if candidate[1] > max_[1]:\n",
    "                \n",
    "                    max_ = candidate\n",
    "\n",
    "                    \n",
    "    memo[i] = max_\n",
    "memo[0] = (0, 0, 0)\n",
    "# print(memo)\n",
    "result = []\n",
    "for i in memo:\n",
    "    \n",
    "    result.append(i[1])\n",
    "# print(result)\n",
    "print(max(result))"
   ]
  }
 ],
 "metadata": {
  "kernelspec": {
   "display_name": "Python 3",
   "language": "python",
   "name": "python3"
  },
  "language_info": {
   "codemirror_mode": {
    "name": "ipython",
    "version": 3
   },
   "file_extension": ".py",
   "mimetype": "text/x-python",
   "name": "python",
   "nbconvert_exporter": "python",
   "pygments_lexer": "ipython3",
   "version": "3.7.1"
  }
 },
 "nbformat": 4,
 "nbformat_minor": 2
}
