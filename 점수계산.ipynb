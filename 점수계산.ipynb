{
 "cells": [
  {
   "cell_type": "code",
   "execution_count": 8,
   "metadata": {},
   "outputs": [
    {
     "name": "stdout",
     "output_type": "stream",
     "text": [
      "one_or_zero : [0, 0, 1, 1, 1, 0, 1, 1, 1, 1, 1, 1, 0, 1, 0, 1, 0, 1, 1, 0, 0, 1, 1, 0, 1, 0, 1, 1, 1, 0, 1, 1, 1, 1, 1, 1, 0, 0, 0, 0, 0, 0, 0, 1, 0, 1, 1, 1, 1, 0, 1, 1, 0, 0, 0, 0, 0, 1, 0, 1, 1, 0, 1, 0, 1, 1, 1, 1, 1, 0, 0, 0, 1, 1, 1, 0, 1, 0, 1, 1, 0, 1, 1, 0, 1, 0, 0, 1, 0, 1, 1, 0, 1, 1, 0, 1, 0, 0, 1, 1] \n",
      "\n",
      "count_list : [0, 0, 3, 6, 1, 1, 2, 0, 2, 1, 3, 6, 0, 0, 0, 0, 0, 0, 1, 4, 2, 0, 0, 0, 0, 1, 2, 1, 5, 0, 0, 3, 1, 2, 2, 1, 0, 1, 2, 2, 1, 0, 2] \n",
      "\n",
      "result : [0, 0, 6, 21, 1, 1, 3, 0, 3, 1, 6, 21, 0, 0, 0, 0, 0, 0, 1, 10, 3, 0, 0, 0, 0, 1, 3, 1, 15, 0, 0, 6, 1, 3, 3, 1, 0, 1, 3, 3, 1, 0, 3] \n",
      "\n",
      "0.0\n"
     ]
    },
    {
     "data": {
      "text/plain": [
       "122"
      ]
     },
     "execution_count": 8,
     "metadata": {},
     "output_type": "execute_result"
    }
   ],
   "source": [
    "import random\n",
    "import numpy as np\n",
    "import time\n",
    "\n",
    "def make_score():\n",
    "    \n",
    "    start = time.time()\n",
    "    one_or_zero = input_list\n",
    "    print(\"one_or_zero :\", list(one_or_zero), '\\n')\n",
    "    \n",
    "    count_list = []\n",
    "    count = 0\n",
    "    for i in range(len(one_or_zero)):\n",
    "\n",
    "        if i == 0:\n",
    "            \n",
    "            if one_or_zero[i] == 0:\n",
    "    \n",
    "                count_list.append(count)\n",
    "                count = 0\n",
    "\n",
    "            elif one_or_zero[i] == 1:\n",
    "\n",
    "                count = count + 1      \n",
    "        \n",
    "        else:\n",
    "            \n",
    "            if one_or_zero[i] == 0:\n",
    "\n",
    "                count_list.append(count)\n",
    "                count = 0\n",
    "\n",
    "            elif one_or_zero[i] == 1 and one_or_zero[i-1] == 0:\n",
    "\n",
    "                count = count + 1\n",
    "\n",
    "            elif one_or_zero[i] == 1 and one_or_zero[i-1] == 1:\n",
    "\n",
    "                count = count + 1\n",
    "        \n",
    "        if i == len(one_or_zero) - 1:\n",
    "            \n",
    "            count_list.append(count)\n",
    "            \n",
    "    print(\"count_list :\", count_list, \"\\n\")\n",
    "    \n",
    "    for i in range(len(count_list)):\n",
    "        \n",
    "        if count_list[i] != 0 and count_list[i] != 1:\n",
    "            \n",
    "            sum = 0\n",
    "            for j in range(count_list[i]+1):\n",
    "                \n",
    "                sum = sum + j\n",
    "                \n",
    "            count_list[i] = sum\n",
    "            \n",
    "    print(\"result :\", count_list, \"\\n\")\n",
    "    \n",
    "    sum_for_result = 0\n",
    "    for i in count_list:\n",
    "        \n",
    "        sum_for_result = sum_for_result + i\n",
    "    \n",
    "    print(time.time() - start)\n",
    "    \n",
    "    return sum_for_result\n",
    "    \n",
    "make_score()"
   ]
  },
  {
   "cell_type": "code",
   "execution_count": 9,
   "metadata": {},
   "outputs": [
    {
     "name": "stdout",
     "output_type": "stream",
     "text": [
      "one_or_zero : [0, 0, 1, 1, 1, 0, 1, 1, 1, 1, 1, 1, 0, 1, 0, 1, 0, 1, 1, 0, 0, 1, 1, 0, 1, 0, 1, 1, 1, 0, 1, 1, 1, 1, 1, 1, 0, 0, 0, 0, 0, 0, 0, 1, 0, 1, 1, 1, 1, 0, 1, 1, 0, 0, 0, 0, 0, 1, 0, 1, 1, 0, 1, 0, 1, 1, 1, 1, 1, 0, 0, 0, 1, 1, 1, 0, 1, 0, 1, 1, 0, 1, 1, 0, 1, 0, 0, 1, 0, 1, 1, 0, 1, 1, 0, 1, 0, 0, 1, 1] \n",
      "\n",
      "0.0004951953887939453\n"
     ]
    },
    {
     "data": {
      "text/plain": [
       "122"
      ]
     },
     "execution_count": 9,
     "metadata": {},
     "output_type": "execute_result"
    }
   ],
   "source": [
    "#해설 답안\n",
    "import random\n",
    "import numpy as np\n",
    "import time\n",
    "\n",
    "def make_score2():\n",
    "    \n",
    "    start = time.time()\n",
    "    one_or_zero = input_list\n",
    "    print(\"one_or_zero :\", list(one_or_zero), '\\n')\n",
    "\n",
    "    count = 0\n",
    "    sum = 0\n",
    "    for i in one_or_zero:\n",
    "        \n",
    "        if i==1:\n",
    "            \n",
    "            count = count+1\n",
    "            sum = sum+count\n",
    "            \n",
    "        else : \n",
    "            \n",
    "            count = 0\n",
    "    \n",
    "    print(time.time()-start)\n",
    "    return sum\n",
    "\n",
    "make_score2()"
   ]
  },
  {
   "cell_type": "code",
   "execution_count": 2,
   "metadata": {},
   "outputs": [
    {
     "name": "stdout",
     "output_type": "stream",
     "text": [
      "[0, 0, 1, 1, 1, 0, 1, 1, 1, 1, 1, 1, 0, 1, 0, 1, 0, 1, 1, 0, 0, 1, 1, 0, 1, 0, 1, 1, 1, 0, 1, 1, 1, 1, 1, 1, 0, 0, 0, 0, 0, 0, 0, 1, 0, 1, 1, 1, 1, 0, 1, 1, 0, 0, 0, 0, 0, 1, 0, 1, 1, 0, 1, 0, 1, 1, 1, 1, 1, 0, 0, 0, 1, 1, 1, 0, 1, 0, 1, 1, 0, 1, 1, 0, 1, 0, 0, 1, 0, 1, 1, 0, 1, 1, 0, 1, 0, 0, 1, 1]\n"
     ]
    }
   ],
   "source": [
    "text_file = open(\"C:/Users/my/Desktop/Documents/파이썬 알고리즘 문제풀이(코딩테스트 대비)/섹션 2/10. 점수 계산/in5.txt\")\n",
    "lines = text_file.readlines()\n",
    "# print(lines)\n",
    "\n",
    "new_input = []\n",
    "for i in range(len(lines)):\n",
    "    \n",
    "    if i == 0:\n",
    "        \n",
    "        continue\n",
    "    \n",
    "    element = lines[i].rstrip(\"\\n\")\n",
    "    element = element.strip()\n",
    "    element_digit_list = element.split()\n",
    "    element_digit_list_with_int = []\n",
    "    for i in element_digit_list:\n",
    "        \n",
    "        element_digit_list_with_int.append(int(i))\n",
    "    \n",
    "    element_digit_tuple = tuple(element_digit_list_with_int)\n",
    "    new_input.append(element_digit_tuple)\n",
    "\n",
    "input_list = list(new_input[0])\n",
    "print(input_list)\n",
    "text_file.close()"
   ]
  }
 ],
 "metadata": {
  "kernelspec": {
   "display_name": "Python 3",
   "language": "python",
   "name": "python3"
  },
  "language_info": {
   "codemirror_mode": {
    "name": "ipython",
    "version": 3
   },
   "file_extension": ".py",
   "mimetype": "text/x-python",
   "name": "python",
   "nbconvert_exporter": "python",
   "pygments_lexer": "ipython3",
   "version": "3.7.1"
  }
 },
 "nbformat": 4,
 "nbformat_minor": 2
}
