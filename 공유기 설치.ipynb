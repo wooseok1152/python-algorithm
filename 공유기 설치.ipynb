{
 "cells": [
  {
   "cell_type": "code",
   "execution_count": 6,
   "metadata": {},
   "outputs": [
    {
     "name": "stdout",
     "output_type": "stream",
     "text": [
      "\n"
     ]
    },
    {
     "ename": "TypeError",
     "evalue": "'builtin_function_or_method' object is not iterable",
     "output_type": "error",
     "traceback": [
      "\u001b[1;31m---------------------------------------------------------------------------\u001b[0m",
      "\u001b[1;31mTypeError\u001b[0m                                 Traceback (most recent call last)",
      "\u001b[1;32m<ipython-input-6-ea87388f60a5>\u001b[0m in \u001b[0;36m<module>\u001b[1;34m\u001b[0m\n\u001b[1;32m----> 1\u001b[1;33m \u001b[0mn\u001b[0m\u001b[1;33m,\u001b[0m \u001b[0mm\u001b[0m \u001b[1;33m=\u001b[0m \u001b[0mmap\u001b[0m\u001b[1;33m(\u001b[0m\u001b[0mint\u001b[0m\u001b[1;33m,\u001b[0m \u001b[0minput\u001b[0m\u001b[1;33m(\u001b[0m\u001b[1;33m)\u001b[0m\u001b[1;33m.\u001b[0m\u001b[0msplit\u001b[0m\u001b[1;33m)\u001b[0m\u001b[1;33m\u001b[0m\u001b[1;33m\u001b[0m\u001b[0m\n\u001b[0m\u001b[0;32m      2\u001b[0m \u001b[1;33m\u001b[0m\u001b[0m\n\u001b[0;32m      3\u001b[0m \u001b[1;32mdef\u001b[0m \u001b[0mrouter_install\u001b[0m\u001b[1;33m(\u001b[0m\u001b[1;33m)\u001b[0m\u001b[1;33m:\u001b[0m\u001b[1;33m\u001b[0m\u001b[1;33m\u001b[0m\u001b[0m\n\u001b[0;32m      4\u001b[0m \u001b[1;33m\u001b[0m\u001b[0m\n\u001b[0;32m      5\u001b[0m     \u001b[0minput_list\u001b[0m \u001b[1;33m=\u001b[0m \u001b[0msorted\u001b[0m\u001b[1;33m(\u001b[0m\u001b[0m_input_list\u001b[0m\u001b[1;33m)\u001b[0m\u001b[1;33m\u001b[0m\u001b[1;33m\u001b[0m\u001b[0m\n",
      "\u001b[1;31mTypeError\u001b[0m: 'builtin_function_or_method' object is not iterable"
     ]
    }
   ],
   "source": [
    "import sys\n",
    "\n",
    "n, target_count = map(int, sys.stdin.readline().split())\n",
    "_input_list = []\n",
    "for i in range(len(n)):\n",
    "    \n",
    "    _input_list.append(int(sys.stdin.readline()))\n",
    "\n",
    "def router_install():\n",
    "    \n",
    "    input_list = sorted(_input_list)\n",
    "    count = 0\n",
    "    \n",
    "    min_closet_distance = 1\n",
    "    max_closet_distance = max(input_list) - min(input_list)\n",
    "    mid = (min_closet_distance + max_closet_distance)//2\n",
    "    \n",
    "    current = input_list[0]\n",
    "    \n",
    "    while True:\n",
    "    \n",
    "        for i in range(1, len(input_list)):\n",
    "\n",
    "            if input_list[i] - current >= mid:\n",
    "\n",
    "                count = count + 1\n",
    "                current = input_list[i]\n",
    "    \n",
    "        if count < target_count :\n",
    "\n",
    "            max_closet_distance = mid - 1\n",
    "            mid = (min_closet_distance + max_closet_distance)//2\n",
    "\n",
    "        elif count >= target_count :\n",
    "\n",
    "            result = mid\n",
    "            max_closet_distance = mid + 1\n",
    "            mid = (min_closet_distance + max_closet_distance)//2\n",
    "\n",
    "        if min_closet_distance > max_closet_distance:\n",
    "            \n",
    "\n",
    "            break\n",
    "    \n",
    "    print(result)\n",
    "    \n",
    "    \n",
    "router_install()\n",
    "            \n",
    "            \n",
    "            "
   ]
  },
  {
   "cell_type": "code",
   "execution_count": null,
   "metadata": {},
   "outputs": [],
   "source": []
  }
 ],
 "metadata": {
  "kernelspec": {
   "display_name": "Python 3",
   "language": "python",
   "name": "python3"
  },
  "language_info": {
   "codemirror_mode": {
    "name": "ipython",
    "version": 3
   },
   "file_extension": ".py",
   "mimetype": "text/x-python",
   "name": "python",
   "nbconvert_exporter": "python",
   "pygments_lexer": "ipython3",
   "version": "3.7.1"
  }
 },
 "nbformat": 4,
 "nbformat_minor": 2
}
