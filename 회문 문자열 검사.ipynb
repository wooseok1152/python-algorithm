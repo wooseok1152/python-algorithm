{
 "cells": [
  {
   "cell_type": "code",
   "execution_count": 25,
   "metadata": {},
   "outputs": [
    {
     "name": "stdout",
     "output_type": "stream",
     "text": [
      "word_list : ['SKGJKJDKJGKKSJGK', 'SSSSSSSSSSSSSSSKSSSSSSSSSSSSSSS', 'JTBCCBTJ', 'KAKAKAKAKAKAKAKAAKAKAKAKAKAKAK', 'BIGTODTHEB', 'ITISTIMETOSUTUDYYDUTUSOTEMITSITI', 'KDJGLKS', 'OSDDDDDDDDDDDDDDDDDDDDDDDSO', 'SKSDDDDDDDDDDDDDDDDDDDDDDDDDDDDDDDDDDDDDDDKSS', 'SKSKSKUUUUUUUUUUUUUUUUUUUUUUUUUUUUUUUUUUUUUUUUUUUUUUUUUUUUUUUUUUKSKSKS', 'STTS', 'MOON', 'KSKGJKLJDLKJLKJKDJGLKSJLKDJGLKDJD', 'STUDENTTNEDUTS', 'KSTUDKGKSJLKGJLKSJDGGKKLLLLLLLLLLLLLLLLLLLLLLSJGKSJLDGJLLLLLLLLLLLLLLLGJKS', 'ABCBA', 'DJFKLJLKGJKLSJKLGLKSJDLG', 'DKJGLSKJDKJGLS', 'YES', 'GOODBOY'] \n",
      "\n",
      "reversed_list : ['KGJSKKGJKDJKJGKS', 'SSSSSSSSSSSSSSSKSSSSSSSSSSSSSSS', 'JTBCCBTJ', 'KAKAKAKAKAKAKAAKAKAKAKAKAKAKAK', 'BEHTDOTGIB', 'ITISTIMETOSUTUDYYDUTUSOTEMITSITI', 'SKLGJDK', 'OSDDDDDDDDDDDDDDDDDDDDDDDSO', 'SSKDDDDDDDDDDDDDDDDDDDDDDDDDDDDDDDDDDDDDDDSKS', 'SKSKSKUUUUUUUUUUUUUUUUUUUUUUUUUUUUUUUUUUUUUUUUUUUUUUUUUUUUUUUUUUKSKSKS', 'STTS', 'NOOM', 'DJDKLGJDKLJSKLGJDKJKLJKLDJLKJGKSK', 'STUDENTTNEDUTS', 'SKJGLLLLLLLLLLLLLLLJGDLJSKGJSLLLLLLLLLLLLLLLLLLLLLLKKGGDJSKLJGKLJSKGKDUTSK', 'ABCBA', 'GLDJSKLGLKJSLKJGKLJLKFJD', 'SLGJKDJKSLGJKD', 'SEY', 'YOBDOOG'] \n",
      "\n",
      "0.0004961490631103516\n"
     ]
    },
    {
     "data": {
      "text/plain": [
       "['No',\n",
       " 'Yes',\n",
       " 'Yes',\n",
       " 'No',\n",
       " 'No',\n",
       " 'Yes',\n",
       " 'No',\n",
       " 'Yes',\n",
       " 'No',\n",
       " 'Yes',\n",
       " 'Yes',\n",
       " 'No',\n",
       " 'No',\n",
       " 'Yes',\n",
       " 'No',\n",
       " 'Yes',\n",
       " 'No',\n",
       " 'No',\n",
       " 'No',\n",
       " 'No']"
      ]
     },
     "execution_count": 25,
     "metadata": {},
     "output_type": "execute_result"
    }
   ],
   "source": [
    "import time\n",
    "\n",
    "def is_palindrome():\n",
    "    \n",
    "    start = time.time()\n",
    "    word_list = new_input\n",
    "    word_list = list(map(lambda x : x.upper(), word_list))\n",
    "    print(\"word_list :\", word_list, \"\\n\")\n",
    "    reversed_list = []\n",
    "    for i in word_list:\n",
    "    \n",
    "        letter_sum = \"\"\n",
    "        for j in range(-1, -len(i)-1, -1):\n",
    "            \n",
    "            letter_sum = letter_sum + i[j]\n",
    "            \n",
    "        reversed_list.append(letter_sum)\n",
    "    print(\"reversed_list :\", reversed_list, \"\\n\")\n",
    "    \n",
    "    yes_or_no_list = []\n",
    "    \n",
    "    for i in range(len(word_list)):\n",
    "        \n",
    "        if word_list[i] == reversed_list[i]:\n",
    "            \n",
    "            result = \"Yes\"\n",
    "            \n",
    "        else:\n",
    "            \n",
    "            result = \"No\"\n",
    "        \n",
    "        yes_or_no_list.append(result)\n",
    "    \n",
    "    print(time.time()-start)\n",
    "    return yes_or_no_list\n",
    "\n",
    "is_palindrome()"
   ]
  },
  {
   "cell_type": "code",
   "execution_count": 16,
   "metadata": {},
   "outputs": [
    {
     "name": "stdout",
     "output_type": "stream",
     "text": [
      "[-1, -2, -3, -4]\n"
     ]
    }
   ],
   "source": [
    "# 핵심 알고리즘\n",
    "a_list = list(range(-1, -5, -1))\n",
    "print(a_list)"
   ]
  },
  {
   "cell_type": "code",
   "execution_count": 24,
   "metadata": {},
   "outputs": [
    {
     "name": "stdout",
     "output_type": "stream",
     "text": [
      "['skgjkjdkjgkksjgk', 'sssssssssssssssksssssssssssssss', 'jtbccbtj', 'kakakakakakakakaakakakakakakak', 'bigtodtheb', 'itistimetosutudyydutusotemitsiti', 'kdjglks', 'osdddddddddddddddddddddddso', 'sksdddddddddddddddddddddddddddddddddddddddkss', 'skskskuuuuuuuuuuuuuuuuuuuuuuuuuuuuuuuuuuuuuuuuuuuuuuuuuuuuuuuuuuksksks', 'stts', 'moon', 'kskgjkljdlkjlkjkdjglksjlkdjglkdjd', 'studenttneduts', 'kstudkgksjlkgjlksjdggkkllllllllllllllllllllllsjgksjldgjlllllllllllllllgjks', 'abcba', 'djfkljlkgjklsjklglksjdlg', 'dkjglskjdkjgls', 'yes', 'goodboy']\n"
     ]
    }
   ],
   "source": [
    "text_file = open(r\"C:\\Users\\my\\Desktop\\Documents\\파이썬 알고리즘 문제풀이(코딩테스트 대비)\\섹션 3\\1. 회문 문자열 검사\\in5.txt\")\n",
    "lines = text_file.readlines()\n",
    "# print(lines)\n",
    "\n",
    "new_input = []\n",
    "for i in range(len(lines)):\n",
    "    \n",
    "    if i == 0:\n",
    "        \n",
    "        continue\n",
    "    \n",
    "    element = lines[i].rstrip(\"\\n\")\n",
    "    element = element.strip()\n",
    "    new_input.append(element)\n",
    "    \n",
    "print(new_input)\n",
    "text_file.close()"
   ]
  },
  {
   "cell_type": "code",
   "execution_count": 23,
   "metadata": {},
   "outputs": [
    {
     "name": "stdout",
     "output_type": "stream",
     "text": [
      "[2, 3, 4]\n"
     ]
    }
   ],
   "source": [
    "a = list(map(lambda x: x+1, [1,2,3]))\n",
    "print(a)"
   ]
  }
 ],
 "metadata": {
  "kernelspec": {
   "display_name": "Python 3",
   "language": "python",
   "name": "python3"
  },
  "language_info": {
   "codemirror_mode": {
    "name": "ipython",
    "version": 3
   },
   "file_extension": ".py",
   "mimetype": "text/x-python",
   "name": "python",
   "nbconvert_exporter": "python",
   "pygments_lexer": "ipython3",
   "version": "3.7.1"
  }
 },
 "nbformat": 4,
 "nbformat_minor": 2
}
