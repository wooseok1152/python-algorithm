{
 "cells": [
  {
   "cell_type": "code",
   "execution_count": 1,
   "metadata": {},
   "outputs": [
    {
     "name": "stdout",
     "output_type": "stream",
     "text": [
      "input_list : [0, 1, 4, 2, 6, 5, 3, 8, 9] 9\n",
      "memo : [[0], [[1]], 0, 0, 0, 0, 0, 0, 0] 9 \n",
      "\n",
      "[[0], [[1]], [[1, 4]], [[1, 2]], [[1, 2, 6], [1, 4, 6]], [[1, 2, 5], [1, 4, 5]], [[1, 2, 3]], [[1, 2, 3, 8], [1, 2, 5, 8], [1, 4, 5, 8], [1, 2, 6, 8], [1, 4, 6, 8]], [[1, 2, 3, 8, 9], [1, 2, 5, 8, 9], [1, 4, 5, 8, 9], [1, 2, 6, 8, 9], [1, 4, 6, 8, 9]]]\n",
      "5\n",
      "final_result : [[1, 2, 3, 8, 9], [1, 2, 5, 8, 9], [1, 4, 5, 8, 9], [1, 2, 6, 8, 9], [1, 4, 6, 8, 9]] \n",
      "\n",
      "[[1, 2, 3, 8, 9], [1, 2, 5, 8, 9], [1, 2, 6, 8, 9], [1, 4, 5, 8, 9], [1, 4, 6, 8, 9]]\n"
     ]
    }
   ],
   "source": [
    "input_list = [1,4,2,6,5,3, 8, 9]\n",
    "memo = [0] * (len(input_list) + 1)\n",
    "input_list.insert(0, 0)\n",
    "memo[0] = [0]\n",
    "memo[1] = [[input_list[1]]]\n",
    "print(\"input_list :\", input_list, len(input_list))\n",
    "print(\"memo :\", memo,len(memo), \"\\n\")\n",
    "\n",
    "\n",
    "for i in range(2, len(input_list)):\n",
    "    \n",
    "    picked_max = 0\n",
    "    result = []\n",
    "    target = input_list[i]\n",
    "    max_length = 0\n",
    "    for j in range(i - 1, 0, -1):\n",
    "        \n",
    "        for l in range(len(memo[j])):\n",
    "            \n",
    "            if target > memo[j][l][-1]:\n",
    "                \n",
    "                picked = memo[j][l][:]\n",
    "                picked.append(target)\n",
    "                if len(picked) > max_length:\n",
    "                    \n",
    "                    max_length = len(picked)\n",
    "                if len(picked) == max_length:\n",
    "                    \n",
    "                    result.append(picked)\n",
    "    #         if memo[j][k][-1] > picked_max:\n",
    "                    \n",
    "    #             picked_max = memo[j][k][-1]\n",
    "    # if target > picked_max:\n",
    "        \n",
    "        # result.append([target])\n",
    "    memo[i] = result\n",
    "\n",
    "print(memo)\n",
    "memo[0] = [[0]]\n",
    "final_max_len = len(memo[-1][0])\n",
    "final_result = []\n",
    "print(final_max_len)\n",
    "for i in memo:\n",
    "    \n",
    "    if len(i[0]) == final_max_len:\n",
    "        \n",
    "        for j in range(len(i)):\n",
    "            \n",
    "            final_result.append(i[j])\n",
    "            \n",
    "print(\"final_result :\", final_result, \"\\n\")\n",
    "\n",
    "real_final_result = sorted(final_result, key=lambda x: [x[i] for i in range(final_max_len)])\n",
    "print(real_final_result)\n",
    "\n",
    "\n",
    "\n",
    "        "
   ]
  },
  {
   "cell_type": "code",
   "execution_count": null,
   "metadata": {},
   "outputs": [],
   "source": []
  }
 ],
 "metadata": {
  "kernelspec": {
   "display_name": "Python 3",
   "language": "python",
   "name": "python3"
  },
  "language_info": {
   "codemirror_mode": {
    "name": "ipython",
    "version": 3
   },
   "file_extension": ".py",
   "mimetype": "text/x-python",
   "name": "python",
   "nbconvert_exporter": "python",
   "pygments_lexer": "ipython3",
   "version": "3.7.1"
  }
 },
 "nbformat": 4,
 "nbformat_minor": 2
}
