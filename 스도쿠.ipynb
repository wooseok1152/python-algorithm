{
 "cells": [
  {
   "cell_type": "code",
   "execution_count": 29,
   "metadata": {},
   "outputs": [
    {
     "name": "stdout",
     "output_type": "stream",
     "text": [
      "YES\n"
     ]
    }
   ],
   "source": [
    "input_matrix = [[1, 4, 3, 6, 2, 8, 5, 7, 9],\n",
    "[5, 7, 2, 1, 3, 9, 4, 6, 8,],\n",
    "[9, 8, 6, 7, 5, 4, 2, 3, 1],\n",
    "[3, 9, 1, 5, 4, 2, 7, 8, 6],\n",
    "[4, 6, 8, 9, 1, 7, 3, 5, 2],\n",
    "[7, 2, 5, 8, 6, 3, 9, 1, 4],\n",
    "[2, 3, 7, 4, 8, 1, 6, 9, 5],\n",
    "[6, 1, 9, 2, 7, 5, 8, 4, 3],\n",
    "[8, 5, 4, 3, 9, 6, 1, 2, 7]]\n",
    "\n",
    "def is_perfect_sudoko():\n",
    "    \n",
    "    total_perfect_count = 0\n",
    "    \n",
    "    # row_perfect_count_check\n",
    "    row_perfect_count = 0\n",
    "    for i in range(len(input_matrix)):\n",
    "        \n",
    "        if len(input_matrix[i]) == len(set(input_matrix[i])):\n",
    "            \n",
    "            row_perfect_count = row_perfect_count + 1\n",
    "    if row_perfect_count == len(input_matrix):\n",
    "        \n",
    "        total_perfect_count = total_perfect_count + 1\n",
    "        \n",
    "    # coloumn_perfect_count_check\n",
    "    coloumn_perfect_count = 0\n",
    "    \n",
    "    for i in range(len(input_matrix)):\n",
    "        \n",
    "        for j in range(len(input_matrix)):\n",
    "            \n",
    "            coloumn_list = []\n",
    "            coloumn_list.append(input_matrix[j][i])\n",
    "        \n",
    "        if len(coloumn_list) == len(set(coloumn_list)):\n",
    "            \n",
    "            coloumn_perfect_count = coloumn_perfect_count + 1\n",
    "            \n",
    "    if coloumn_perfect_count == len(input_matrix):    \n",
    "        \n",
    "        total_perfect_count = total_perfect_count + 1\n",
    "        \n",
    "    #3*3_perfect_count_check\n",
    "    three_by_three_perfect_count = 0\n",
    "    for i in list(range(0, len(input_matrix), 3)):\n",
    "        \n",
    "        first_row, second_row, third_row = input_matrix[i:i+3]\n",
    "        for j in range(0, len(first_row), 3):\n",
    "            \n",
    "            a, b, c = first_row[j:j+3]\n",
    "            d, e, f = second_row[j:j+3]\n",
    "            g, h, k = third_row[j:j+3]\n",
    "            three_by_three_list = [a,b,c,d,e,f,g,h,k]\n",
    "            if len(three_by_three_list) == len(set(three_by_three_list)):\n",
    "                \n",
    "                three_by_three_perfect_count = three_by_three_perfect_count + 1\n",
    "\n",
    "    if three_by_three_perfect_count == 9:\n",
    "        \n",
    "        total_perfect_count = total_perfect_count + 1\n",
    "    \n",
    "    if total_perfect_count == 3:\n",
    "        \n",
    "        print(\"YES\")\n",
    "        \n",
    "        \n",
    "        \n",
    "    \n",
    "is_perfect_sudoko()\n",
    "    "
   ]
  },
  {
   "cell_type": "code",
   "execution_count": 6,
   "metadata": {},
   "outputs": [
    {
     "name": "stdout",
     "output_type": "stream",
     "text": [
      "[0, 3, 6]\n"
     ]
    }
   ],
   "source": [
    "listt = list(range(0, len(input_matrix), 3))\n",
    "print(listt)"
   ]
  },
  {
   "cell_type": "code",
   "execution_count": 17,
   "metadata": {},
   "outputs": [
    {
     "data": {
      "text/plain": [
       "[1, 2, 3, 4, [5, 6, 7]]"
      ]
     },
     "execution_count": 17,
     "metadata": {},
     "output_type": "execute_result"
    }
   ],
   "source": [
    "listt = [1,2,3,4]\n",
    "listt.append([5,6,7])\n",
    "listt"
   ]
  }
 ],
 "metadata": {
  "kernelspec": {
   "display_name": "Python 3",
   "language": "python",
   "name": "python3"
  },
  "language_info": {
   "codemirror_mode": {
    "name": "ipython",
    "version": 3
   },
   "file_extension": ".py",
   "mimetype": "text/x-python",
   "name": "python",
   "nbconvert_exporter": "python",
   "pygments_lexer": "ipython3",
   "version": "3.7.1"
  }
 },
 "nbformat": 4,
 "nbformat_minor": 2
}
