{
 "cells": [
  {
   "cell_type": "code",
   "execution_count": 3,
   "metadata": {},
   "outputs": [
    {
     "name": "stdout",
     "output_type": "stream",
     "text": [
      "7\n"
     ]
    }
   ],
   "source": [
    "'''\n",
    "큐, 스택 자료구조를 활용할 때 핵심은 해당 자료구조 내 원소를 하나씩 빼고 추가한다는 것이다.\n",
    "두 개 이상의 요소를 한 번에 빼거나 넣으면, 정확한 답을 구하기 힘들어진다.\n",
    "'''\n",
    "\n",
    "import sys\n",
    "\n",
    "sys.stdin = open(r\"C:\\Users\\my\\Desktop\\Documents\\파이썬 알고리즘 문제풀이(코딩테스트 대비)\\섹션 5\\5. 공주구하기\\in1.txt\")\n",
    "n, k = list(map(int, input().split()))\n",
    "\n",
    "input_list = list(range(1, n + 1))\n",
    "\n",
    "def save_princess(input_list, k):\n",
    "    \n",
    "    while True:\n",
    "        \n",
    "        for i in range(k-1):\n",
    "            \n",
    "            picked = input_list.pop(0)\n",
    "            input_list.append(picked)\n",
    "        \n",
    "        input_list.pop(0)\n",
    "        if len(input_list) == 1:\n",
    "            \n",
    "            result = input_list[-1]\n",
    "            break\n",
    "    \n",
    "    print(result)\n",
    "    \n",
    "save_princess(input_list, k)"
   ]
  },
  {
   "cell_type": "code",
   "execution_count": null,
   "metadata": {},
   "outputs": [],
   "source": [
    "'''1회 복습'''\n",
    "import sys\n",
    "\n",
    "sys.stdin = open(r\"C:\\Users\\user\\Desktop\\Documents\\파이썬 알고리즘 문제풀이(코딩테스트 대비)\\섹션 5\\5. 공주구하기\\in1.txt\")\n",
    "\n",
    "length, target = list(map(int, input().split()))\n",
    "queue = [i for i in range(1, length + 1)]\n",
    "\n",
    "while True:\n",
    "    \n",
    "    for i in range(target-1):\n",
    "        \n",
    "        queue.append(queue.pop(0))\n",
    "    queue.pop(0)\n",
    "    print(queue)\n",
    "    if len(queue) == 1:\n",
    "        \n",
    "        # print(queue[0])\n",
    "        break"
   ]
  }
 ],
 "metadata": {
  "kernelspec": {
   "display_name": "Python 3",
   "language": "python",
   "name": "python3"
  },
  "language_info": {
   "codemirror_mode": {
    "name": "ipython",
    "version": 3
   },
   "file_extension": ".py",
   "mimetype": "text/x-python",
   "name": "python",
   "nbconvert_exporter": "python",
   "pygments_lexer": "ipython3",
   "version": "3.7.1"
  }
 },
 "nbformat": 4,
 "nbformat_minor": 2
}
