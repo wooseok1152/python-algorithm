{
 "cells": [
  {
   "cell_type": "code",
   "execution_count": 36,
   "metadata": {},
   "outputs": [
    {
     "name": "stdout",
     "output_type": "stream",
     "text": [
      "362\n"
     ]
    }
   ],
   "source": [
    "import sys\n",
    "sys.stdin = open(r\"C:\\Users\\my\\Desktop\\Documents\\파이썬 알고리즘 문제풀이(코딩테스트 대비)\\섹션 3\\8. 곳감\\in4.txt\", \"r\")\n",
    "n = int(input())\n",
    "a = [list(map(int, input().split())) for _ in range(n)]\n",
    "m = int(input())\n",
    "b = [list(map(int, input().split())) for _ in range(m)]\n",
    "\n",
    "print(\"a :\", a, \"\\n\")\n",
    "print(\"b :\", b, \"\\n\")\n",
    "\n",
    "def sand_clock():\n",
    "    \n",
    "    # 원소 이동 부분\n",
    "    for i in b:\n",
    "        \n",
    "        stack = []\n",
    "        row_number, direction, move_count = i\n",
    "        move_count = move_count%(len(a)+1)\n",
    "\n",
    "        if direction == 0:\n",
    "            \n",
    "            target = a[row_number - 1]\n",
    "            for j in range(move_count):\n",
    "                \n",
    "                stack.append(target.pop(0))\n",
    "            \n",
    "            for k in range(len(stack)):\n",
    "                \n",
    "                target.append(stack.pop(0))\n",
    "            \n",
    "            # print(row_number, \":\", target)\n",
    "            a[row_number - 1] = target\n",
    "                \n",
    "            \n",
    "        elif direction == 1:\n",
    "            \n",
    "            target = a[row_number - 1]\n",
    "            for j in range(move_count):\n",
    "                \n",
    "                stack.append(target.pop())\n",
    "            \n",
    "            for k in range(len(stack)):\n",
    "                \n",
    "                target.insert(0, stack.pop(0))\n",
    "            # print(row_number, \":\", target)\n",
    "            a[row_number - 1] = target\n",
    "            \n",
    "    print(\"processed_a :\", a ,\"\\n\")\n",
    "    \n",
    "    # 모래시계 모양 합하는 부분\n",
    "    left = 0\n",
    "    right = len(a)\n",
    "    sum_list = []\n",
    "    for i in range((len(a)//2)+1):\n",
    "        \n",
    "        row_list = a[i][left:right]\n",
    "        print(\"row_list :\", row_list, \"\\n\")\n",
    "        row_sum = sum(row_list)\n",
    "        sum_list.append(row_sum)\n",
    "        left = left + 1\n",
    "        right = right - 1\n",
    "    \n",
    "    \n",
    "    left = (len(a)//2)-1\n",
    "    right = (len(a)//2) + 1\n",
    "    for j in range((len(a)//2)+1, len(a)):\n",
    "        \n",
    "        row_list = a[j][left : right + 1]\n",
    "        print(\"row_list :\", row_list, \"\\n\")\n",
    "        row_sum = sum(row_list)\n",
    "        sum_list.append(row_sum)\n",
    "        left = left - 1\n",
    "        right = right + 1\n",
    "    \n",
    "    print(sum_list)    \n",
    "    final_result = sum(sum_list)\n",
    "    print(\"final_result :\", final_result)\n",
    "    \n",
    "sand_clock()"
   ]
  },
  {
   "cell_type": "code",
   "execution_count": 20,
   "metadata": {},
   "outputs": [],
   "source": [
    "a = [1,2,3]\n",
    "\n"
   ]
  }
 ],
 "metadata": {
  "kernelspec": {
   "display_name": "Python 3",
   "language": "python",
   "name": "python3"
  },
  "language_info": {
   "codemirror_mode": {
    "name": "ipython",
    "version": 3
   },
   "file_extension": ".py",
   "mimetype": "text/x-python",
   "name": "python",
   "nbconvert_exporter": "python",
   "pygments_lexer": "ipython3",
   "version": "3.7.1"
  }
 },
 "nbformat": 4,
 "nbformat_minor": 2
}
