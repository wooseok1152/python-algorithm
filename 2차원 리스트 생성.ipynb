{
 "cells": [
  {
   "cell_type": "code",
   "execution_count": 14,
   "metadata": {},
   "outputs": [
    {
     "name": "stdout",
     "output_type": "stream",
     "text": [
      "[[0, 0, 0], [0, 0, 0], [0, 0, 0]] \n",
      "\n",
      "[[0, 1, 0], [0, 0, 0], [0, 0, 0]] \n",
      "\n",
      "********************************************************************************\n",
      "2차원 리스트를 '행렬'로 나타내기 : \n",
      "\n",
      "[0, 1, 0]\n",
      "[0, 0, 0]\n",
      "[0, 0, 0]\n"
     ]
    }
   ],
   "source": [
    "# 2차원 리스트\n",
    "a = [[0] * 3 for i in range(3)]\n",
    "print(a,\"\\n\")\n",
    "a[0][1] = 1\n",
    "print(a, \"\\n\")\n",
    "print(\"*\"*80)\n",
    "\n",
    "print(\"2차원 리스트를 '행렬'로 나타내기 :\",\"\\n\")\n",
    "for i in a:\n",
    "    \n",
    "    print(i)"
   ]
  },
  {
   "cell_type": "code",
   "execution_count": 6,
   "metadata": {},
   "outputs": [
    {
     "name": "stdout",
     "output_type": "stream",
     "text": [
      "[[0 0 0]\n",
      " [0 0 0]\n",
      " [0 0 0]]\n"
     ]
    }
   ],
   "source": [
    "b = np.array([[0, 0, 0],\n",
    "            [0, 0, 0],\n",
    "            [0, 0, 0]])\n",
    "print(b)"
   ]
  }
 ],
 "metadata": {
  "kernelspec": {
   "display_name": "Python 3",
   "language": "python",
   "name": "python3"
  },
  "language_info": {
   "codemirror_mode": {
    "name": "ipython",
    "version": 3
   },
   "file_extension": ".py",
   "mimetype": "text/x-python",
   "name": "python",
   "nbconvert_exporter": "python",
   "pygments_lexer": "ipython3",
   "version": "3.7.1"
  }
 },
 "nbformat": 4,
 "nbformat_minor": 2
}
