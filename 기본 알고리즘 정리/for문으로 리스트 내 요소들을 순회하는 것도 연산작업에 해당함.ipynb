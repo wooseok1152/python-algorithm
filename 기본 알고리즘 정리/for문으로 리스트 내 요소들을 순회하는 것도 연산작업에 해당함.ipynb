{
 "cells": [
  {
   "cell_type": "code",
   "execution_count": 1,
   "metadata": {},
   "outputs": [
    {
     "name": "stdout",
     "output_type": "stream",
     "text": [
      "0.8451809883117676\n"
     ]
    }
   ],
   "source": [
    "'''그러므로 값이 큰 input을 최대 index로 가지는 list를 생성하면, 해당 알고리즘의 실행시간이 길어진다.'''\n",
    "\n",
    "import time\n",
    "\n",
    "start = time.time()\n",
    "listt = list(range(1, 8000000))\n",
    "for i in listt:\n",
    "    \n",
    "    pass\n",
    "\n",
    "print(time.time() - start)"
   ]
  }
 ],
 "metadata": {
  "kernelspec": {
   "display_name": "Python 3",
   "language": "python",
   "name": "python3"
  },
  "language_info": {
   "codemirror_mode": {
    "name": "ipython",
    "version": 3
   },
   "file_extension": ".py",
   "mimetype": "text/x-python",
   "name": "python",
   "nbconvert_exporter": "python",
   "pygments_lexer": "ipython3",
   "version": "3.7.1"
  }
 },
 "nbformat": 4,
 "nbformat_minor": 2
}
