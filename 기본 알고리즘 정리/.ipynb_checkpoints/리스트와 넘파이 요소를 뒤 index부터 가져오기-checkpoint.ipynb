{
 "cells": [
  {
   "cell_type": "code",
   "execution_count": 2,
   "metadata": {},
   "outputs": [
    {
     "name": "stdout",
     "output_type": "stream",
     "text": [
      "[5, 4, 3, 2, 1] \n",
      "\n",
      "[5 4 3 2 1] \n",
      "\n"
     ]
    }
   ],
   "source": [
    "'''매우 활용성이 높은 기본 알고리즘이니, 꼭 기억하고 있을 것'''\n",
    "list_test = [1,2,3,4,5]\n",
    "print(list_test[::-1], \"\\n\")\n",
    "nparray_test = np.arange(1, 6)\n",
    "print(nparray_test[::-1], \"\\n\")"
   ]
  }
 ],
 "metadata": {
  "kernelspec": {
   "display_name": "Python 3",
   "language": "python",
   "name": "python3"
  },
  "language_info": {
   "codemirror_mode": {
    "name": "ipython",
    "version": 3
   },
   "file_extension": ".py",
   "mimetype": "text/x-python",
   "name": "python",
   "nbconvert_exporter": "python",
   "pygments_lexer": "ipython3",
   "version": "3.7.1"
  }
 },
 "nbformat": 4,
 "nbformat_minor": 2
}
