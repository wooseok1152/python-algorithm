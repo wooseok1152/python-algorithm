{
 "cells": [
  {
   "cell_type": "code",
   "execution_count": 1,
   "metadata": {},
   "outputs": [
    {
     "name": "stdout",
     "output_type": "stream",
     "text": [
      "dd\n",
      "dd\n",
      "dd \n",
      "\n",
      "dd \n",
      "\n"
     ]
    }
   ],
   "source": [
    "'''sys.stdin을 불러오는 것이 빠르다'''\n",
    "'''쥬피터노트북에선 해당 코드 실행 안됨'''\n",
    "import sys\n",
    "\n",
    "sys.stdin = open(\"./stdin_test.txt\", \"r\")\n",
    "first_line = input()\n",
    "second_line = input()\n",
    "\n",
    "print(first_line, \"\\n\")\n",
    "print(second_line, \"\\n\")"
   ]
  }
 ],
 "metadata": {
  "kernelspec": {
   "display_name": "Python 3",
   "language": "python",
   "name": "python3"
  },
  "language_info": {
   "codemirror_mode": {
    "name": "ipython",
    "version": 3
   },
   "file_extension": ".py",
   "mimetype": "text/x-python",
   "name": "python",
   "nbconvert_exporter": "python",
   "pygments_lexer": "ipython3",
   "version": "3.7.1"
  }
 },
 "nbformat": 4,
 "nbformat_minor": 2
}
