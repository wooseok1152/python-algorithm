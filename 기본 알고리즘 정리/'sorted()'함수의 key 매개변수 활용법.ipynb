{
 "cells": [
  {
   "cell_type": "code",
   "execution_count": 7,
   "metadata": {},
   "outputs": [
    {
     "name": "stdout",
     "output_type": "stream",
     "text": [
      "original : [['다', 1, '라'], ['가', 2, '나']]\n",
      "reversed : [['가', 2, '나'], ['다', 1, '라']]\n"
     ]
    }
   ],
   "source": [
    "'''특정 기준으로 sort하는 법'''\n",
    "test = [[\"가\", 2, \"나\"], [\"다\",1,\"라\"]]\n",
    "\n",
    "print(\"original :\", sorted(test, key=lambda i : i[1]))\n",
    "print(\"reversed :\", list(reversed(sorted(test, key=lambda i : i[1]))))"
   ]
  }
 ],
 "metadata": {
  "kernelspec": {
   "display_name": "Python 3",
   "language": "python",
   "name": "python3"
  },
  "language_info": {
   "codemirror_mode": {
    "name": "ipython",
    "version": 3
   },
   "file_extension": ".py",
   "mimetype": "text/x-python",
   "name": "python",
   "nbconvert_exporter": "python",
   "pygments_lexer": "ipython3",
   "version": "3.7.1"
  }
 },
 "nbformat": 4,
 "nbformat_minor": 2
}
