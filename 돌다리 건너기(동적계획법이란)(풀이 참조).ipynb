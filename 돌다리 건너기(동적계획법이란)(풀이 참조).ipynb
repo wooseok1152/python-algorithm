{
 "cells": [
  {
   "cell_type": "code",
   "execution_count": 2,
   "metadata": {},
   "outputs": [
    {
     "name": "stdout",
     "output_type": "stream",
     "text": [
      "34\n"
     ]
    }
   ],
   "source": [
    "'''\n",
    "동적계획법이란, \n",
    "문제를 푸는 방법은 똑같이 하지만 제일 작은 문제의 스케일부터 시작해서 주어진 문제의 스케일까지 점차 진행해 보는 방식이다.('Bottom - Up'방식)\n",
    "특정 스케일의 문제에서 구했던 해가 다음 번 스케일의 문제에 대한 해를 구할 때 사용되어진다.\n",
    "마치 함수의 점화식을 구하는 느낌과 같다.\n",
    "'''\n",
    "\n",
    "target = 7\n",
    "memo = [0] * 46\n",
    "\n",
    "memo[1] = 2\n",
    "memo[2] = 3\n",
    "\n",
    "for i in range(3, 8):\n",
    "    \n",
    "    memo[i] = memo[i - 1] + memo[i - 2]\n",
    "print(memo[target])"
   ]
  }
 ],
 "metadata": {
  "kernelspec": {
   "display_name": "Python 3",
   "language": "python",
   "name": "python3"
  },
  "language_info": {
   "codemirror_mode": {
    "name": "ipython",
    "version": 3
   },
   "file_extension": ".py",
   "mimetype": "text/x-python",
   "name": "python",
   "nbconvert_exporter": "python",
   "pygments_lexer": "ipython3",
   "version": "3.7.1"
  }
 },
 "nbformat": 4,
 "nbformat_minor": 2
}
