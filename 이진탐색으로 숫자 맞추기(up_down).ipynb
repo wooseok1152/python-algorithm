{
 "cells": [
  {
   "cell_type": "code",
   "execution_count": null,
   "metadata": {},
   "outputs": [],
   "source": [
    "import random\n",
    "\n",
    "def up_down():\n",
    "        \n",
    "        random_number = random.randint(1, 100)\n",
    "        print(\"random_number :\", random_number, \"\\n\")\n",
    "        \n",
    "        a = 1\n",
    "        b = 100        \n",
    "        # '50보다 큽니까? 75보다 큽니까?'의 50과 75가 guess 숫자가 되는 것이다.\n",
    "        guess = (a+b)//2\n",
    "        \n",
    "        count = 0\n",
    "        \n",
    "        while random_number != guess:\n",
    "\n",
    "            if random_number > guess:\n",
    "\n",
    "                a = guess\n",
    "                guess = (a+b)//2\n",
    "                count = count + 1\n",
    "\n",
    "            elif random_number < guess:\n",
    "\n",
    "                b = guess\n",
    "                guess = (a+b)//2\n",
    "                count = count + 1\n",
    "        \n",
    "        count = count + 1\n",
    "        print(\"count :\", count, \"\\n\")\n",
    "\n",
    "up_down()                "
   ]
  }
 ],
 "metadata": {
  "kernelspec": {
   "display_name": "Python 3",
   "language": "python",
   "name": "python3"
  },
  "language_info": {
   "codemirror_mode": {
    "name": "ipython",
    "version": 3
   },
   "file_extension": ".py",
   "mimetype": "text/x-python",
   "name": "python",
   "nbconvert_exporter": "python",
   "pygments_lexer": "ipython3",
   "version": "3.7.1"
  }
 },
 "nbformat": 4,
 "nbformat_minor": 2
}
