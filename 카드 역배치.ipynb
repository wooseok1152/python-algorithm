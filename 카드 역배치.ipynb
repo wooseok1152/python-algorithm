{
 "cells": [
  {
   "cell_type": "code",
   "execution_count": 21,
   "metadata": {},
   "outputs": [
    {
     "name": "stdout",
     "output_type": "stream",
     "text": [
      "oroginal_card_list : [1, 2, 3, 4, 5, 6, 7, 8, 9, 10, 11, 12, 13, 14, 15, 16, 17, 18, 19, 20] \n",
      "\n",
      "[19, 1, 2, 4, 3, 5, 8, 7, 6, 9, 15, 16, 17, 12, 11, 10, 14, 13, 18, 20]\n"
     ]
    }
   ],
   "source": [
    "def reverse_card_list(n, m):\n",
    "    \n",
    "    reversed_part = card_list[n-1:m][::-1]\n",
    "    card_list[n-1:m] = reversed_part\n",
    "#     print(\"reversed_card_list :\", card_list)\n",
    "    return card_list\n",
    "\n",
    "for i in range(10):\n",
    "    \n",
    "    if i == 0:\n",
    "        \n",
    "        card_list = list(range(1,21))\n",
    "        print(\"oroginal_card_list :\", card_list, \"\\n\")\n",
    "        \n",
    "    n, m = new_input[i]\n",
    "    result = reverse_card_list(n, m)\n",
    "    if i == 9:\n",
    "        \n",
    "        print(result)\n"
   ]
  },
  {
   "cell_type": "code",
   "execution_count": 20,
   "metadata": {},
   "outputs": [
    {
     "name": "stdout",
     "output_type": "stream",
     "text": [
      "[[13, 17], [2, 19], [1, 2], [3, 19], [1, 1], [1, 9], [11, 16], [5, 6], [1, 3], [1, 9]]\n"
     ]
    }
   ],
   "source": [
    "text_file = open(r\"C:\\Users\\user\\Desktop\\Documents\\파이썬 알고리즘 문제풀이(코딩테스트 대비)\\섹션 3\\3. 카드 역배치\\in5.txt\")\n",
    "lines = text_file.readlines()\n",
    "# print(lines)\n",
    "\n",
    "new_input = []\n",
    "for i in range(len(lines)):\n",
    "    \n",
    "    element = lines[i].rstrip(\"\\n\")\n",
    "    element = element.strip()\n",
    "    element_digit_list = element.split()\n",
    "    element_digit_list = list(map(int, element_digit_list))\n",
    "    new_input.append(element_digit_list)\n",
    "        \n",
    "print(new_input)\n",
    "text_file.close()"
   ]
  }
 ],
 "metadata": {
  "kernelspec": {
   "display_name": "Python 3",
   "language": "python",
   "name": "python3"
  },
  "language_info": {
   "codemirror_mode": {
    "name": "ipython",
    "version": 3
   },
   "file_extension": ".py",
   "mimetype": "text/x-python",
   "name": "python",
   "nbconvert_exporter": "python",
   "pygments_lexer": "ipython3",
   "version": "3.7.1"
  }
 },
 "nbformat": 4,
 "nbformat_minor": 2
}
