{
 "cells": [
  {
   "cell_type": "code",
   "execution_count": 5,
   "metadata": {},
   "outputs": [
    {
     "name": "stdout",
     "output_type": "stream",
     "text": [
      "3\n"
     ]
    }
   ],
   "source": [
    "import sys\n",
    "\n",
    "sys.stdin = open(r\"C:\\Users\\my\\Desktop\\Documents\\파이썬 알고리즘 문제풀이(코딩테스트 대비)\\섹션 4\\8. 침몰하는 타이타닉\\in1.txt\", \"r\")\n",
    "n, target = list(map(int, input().split()))\n",
    "_input_list = list(map(int, input().split()))\n",
    "print(target)\n",
    "\n",
    "def titanic():\n",
    "    \n",
    "    input_list = sorted(_input_list)\n",
    "    print(input_list)\n",
    "    count = 0\n",
    "    \n",
    "    while len(input_list) != 0 :\n",
    "        \n",
    "        \n",
    "        if len(input_list) == 1:\n",
    "            \n",
    "            count = count + 1\n",
    "            del input_list[0]\n",
    "            \n",
    "        elif input_list[0] + input_list[-1] > target:\n",
    "\n",
    "            print(\"first_ocassion :\", input_list[0], input_list[-1])\n",
    "            del input_list[-1]\n",
    "            count = count + 1\n",
    "        \n",
    "        elif input_list[0] + input_list[-1] <= target:\n",
    "\n",
    "            print(\"second_ocassion :\", input_list[0], input_list[-1])\n",
    "            del input_list[0]\n",
    "            del input_list[-1]\n",
    "            count = count + 1\n",
    "\n",
    "    print(count)\n",
    "    \n",
    "titanic()"
   ]
  }
 ],
 "metadata": {
  "kernelspec": {
   "display_name": "Python 3",
   "language": "python",
   "name": "python3"
  },
  "language_info": {
   "codemirror_mode": {
    "name": "ipython",
    "version": 3
   },
   "file_extension": ".py",
   "mimetype": "text/x-python",
   "name": "python",
   "nbconvert_exporter": "python",
   "pygments_lexer": "ipython3",
   "version": "3.7.1"
  }
 },
 "nbformat": 4,
 "nbformat_minor": 2
}
