{
 "cells": [
  {
   "cell_type": "code",
   "execution_count": 3,
   "metadata": {},
   "outputs": [
    {
     "name": "stdout",
     "output_type": "stream",
     "text": [
      "10\n"
     ]
    }
   ],
   "source": [
    "openA = [4, 7, 9, 16]\n",
    "closeB = [2, 5, 12, 14, 20]\n",
    "result = 0\n",
    "stack = []\n",
    "stack.append(openA.pop(0))\n",
    "closeB_target = closeB.pop(0)\n",
    "while True:\n",
    "    \n",
    "    if len(openA) == 0:\n",
    "        \n",
    "        break\n",
    "    if stack[-1] < closeB_target:\n",
    "        \n",
    "        openA_target = openA.pop(0)\n",
    "        if (openA_target > stack[-1]) and (openA_target > closeB_target):\n",
    "            \n",
    "            result = result + (closeB_target - stack.pop(0))\n",
    "            stack.append(openA_target)\n",
    "            closeB_target = closeB.pop(0)\n",
    "        elif openA_target > stack[-1]: \n",
    "            \n",
    "            pass\n",
    "    else:\n",
    "        \n",
    "        closeB_target = closeB.pop(0)\n",
    "        \n",
    "\n",
    "\n",
    "if stack[0] > closeB_target:\n",
    "\n",
    "    while True:\n",
    "        \n",
    "        closeB_target = closeB.pop(0)\n",
    "        if stack[0] < closeB_target:\n",
    "            \n",
    "            break\n",
    "result = result + (closeB_target - stack.pop(0))\n",
    "print(result)\n"
   ]
  }
 ],
 "metadata": {
  "kernelspec": {
   "display_name": "Python 3",
   "language": "python",
   "name": "python3"
  },
  "language_info": {
   "codemirror_mode": {
    "name": "ipython",
    "version": 3
   },
   "file_extension": ".py",
   "mimetype": "text/x-python",
   "name": "python",
   "nbconvert_exporter": "python",
   "pygments_lexer": "ipython3",
   "version": "3.7.1"
  }
 },
 "nbformat": 4,
 "nbformat_minor": 2
}
