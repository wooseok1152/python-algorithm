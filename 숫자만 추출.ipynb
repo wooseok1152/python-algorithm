{
 "cells": [
  {
   "cell_type": "code",
   "execution_count": 31,
   "metadata": {},
   "outputs": [
    {
     "name": "stdout",
     "output_type": "stream",
     "text": [
      "extracted_natural_number : 999999 \n",
      "\n",
      "deviser_count : 64 \n",
      "\n",
      "0.07786870002746582 \n",
      "\n"
     ]
    }
   ],
   "source": [
    "import time\n",
    "\n",
    "def only_number_and_diviser_count():\n",
    "    \n",
    "    start = time.time()\n",
    "    letters = new_input\n",
    "    only_number_sum = \"\"\n",
    "    for i in letters:\n",
    "        \n",
    "        try : \n",
    "            \n",
    "            intify_result = int(i)\n",
    "#             print(intify_result, \"\\n\", type(intify_result))\n",
    "            stringfy = str(intify_result)\n",
    "            only_number_sum = only_number_sum + stringfy\n",
    "        \n",
    "        except:\n",
    "            \n",
    "            continue\n",
    "    \n",
    "    extracted_natural_number = int(only_number_sum)\n",
    "    print(\"extracted_natural_number :\", extracted_natural_number, \"\\n\")\n",
    "    deviser_count = 0\n",
    "    for i in range(1, extracted_natural_number+1):\n",
    "        \n",
    "        if extracted_natural_number%i == 0:\n",
    "            \n",
    "            deviser_count = deviser_count + 1\n",
    "    \n",
    "    print(\"deviser_count :\",deviser_count, \"\\n\")\n",
    "    print(time.time() - start, \"\\n\")\n",
    "    \n",
    "\n",
    "only_number_and_diviser_count()\n",
    "            "
   ]
  },
  {
   "cell_type": "code",
   "execution_count": 30,
   "metadata": {},
   "outputs": [
    {
     "name": "stdout",
     "output_type": "stream",
     "text": [
      "Akdj0Gk9dgdgdAGSGAG9DGGA99GAGADGDGdjADG9SDGkdj9f <class 'str'>\n"
     ]
    }
   ],
   "source": [
    "text_file = open(r\"C:\\Users\\my\\Desktop\\Documents\\파이썬 알고리즘 문제풀이(코딩테스트 대비)\\섹션 3\\2. 숫자만 추출\\in5.txt\")\n",
    "new_input = text_file.readline()\n",
    "print(new_input, type(new_input))\n",
    "text_file.close()"
   ]
  }
 ],
 "metadata": {
  "kernelspec": {
   "display_name": "Python 3",
   "language": "python",
   "name": "python3"
  },
  "language_info": {
   "codemirror_mode": {
    "name": "ipython",
    "version": 3
   },
   "file_extension": ".py",
   "mimetype": "text/x-python",
   "name": "python",
   "nbconvert_exporter": "python",
   "pygments_lexer": "ipython3",
   "version": "3.7.1"
  }
 },
 "nbformat": 4,
 "nbformat_minor": 2
}
