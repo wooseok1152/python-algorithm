{
 "cells": [
  {
   "cell_type": "code",
   "execution_count": 14,
   "metadata": {},
   "outputs": [
    {
     "name": "stdout",
     "output_type": "stream",
     "text": [
      "1011\n"
     ]
    }
   ],
   "source": [
    "'''\n",
    "소스 파일이 실행 될 때, 메모리의 stack 영역이 사용된다.\n",
    "특정 함수가 호출 될 때마다 해당 stack 영역에 'stack frame'이 차곡차곡 쌓인다.\n",
    "stack frame은 매개변수에 할당된 인자값, 지역변수, 복귀주소 등으로 구성되어 있다. \n",
    "재귀함수는 반드시 return으로 종료조건을 만들어줘야 한다.\n",
    "'''\n",
    "\n",
    "import sys\n",
    "\n",
    "#sys.stdin = open(r\"C:\\Users\\user\\Desktop\\Documents\\파이썬 알고리즘 문제풀이(코딩테스트 대비)\\섹션 6\\1. 재귀함수란(이진수출력)\\in1.txt\")\n",
    "input_int = int(input()) \n",
    "result = \"\"\n",
    "\n",
    "def two(input_int):\n",
    "    \n",
    "    global result\n",
    "    if input_int == 1:\n",
    "        \n",
    "        left = input_int%2\n",
    "        result = result + str(left)\n",
    "        return\n",
    "    \n",
    "    moak = input_int//2\n",
    "    left = input_int%2\n",
    "    two(moak)\n",
    "    result = result + str(left)\n",
    "    \n",
    "two(input_int)\n",
    "print(result)"
   ]
  }
 ],
 "metadata": {
  "kernelspec": {
   "display_name": "Python 3",
   "language": "python",
   "name": "python3"
  },
  "language_info": {
   "codemirror_mode": {
    "name": "ipython",
    "version": 3
   },
   "file_extension": ".py",
   "mimetype": "text/x-python",
   "name": "python",
   "nbconvert_exporter": "python",
   "pygments_lexer": "ipython3",
   "version": "3.7.1"
  }
 },
 "nbformat": 4,
 "nbformat_minor": 2
}
