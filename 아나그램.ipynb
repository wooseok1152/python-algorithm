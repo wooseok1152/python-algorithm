{
 "cells": [
  {
   "cell_type": "code",
   "execution_count": 10,
   "metadata": {},
   "outputs": [
    {
     "name": "stdout",
     "output_type": "stream",
     "text": [
      "YES\n"
     ]
    }
   ],
   "source": [
    "input_list = [\"AbaAeCe\", \"baeeACA\"]\n",
    "first = list(input_list[0])\n",
    "second = list(input_list[1])\n",
    "\n",
    "first_set = list(set(first))\n",
    "second_set = list(set(second))\n",
    "\n",
    "first_dict = {}\n",
    "second_dict = {}\n",
    "\n",
    "for i in first_set:\n",
    "    \n",
    "    count = first.count(i)\n",
    "    first_dict[i] = count\n",
    "    \n",
    "for i in second_set:\n",
    "    \n",
    "    count = second.count(i)\n",
    "    second_dict[i] = count\n",
    "    \n",
    "if first_dict == second_dict :\n",
    "    \n",
    "    print(\"YES\")\n",
    "    \n",
    "else :\n",
    "    \n",
    "    print(\"NO\")"
   ]
  }
 ],
 "metadata": {
  "kernelspec": {
   "display_name": "Python 3",
   "language": "python",
   "name": "python3"
  },
  "language_info": {
   "codemirror_mode": {
    "name": "ipython",
    "version": 3
   },
   "file_extension": ".py",
   "mimetype": "text/x-python",
   "name": "python",
   "nbconvert_exporter": "python",
   "pygments_lexer": "ipython3",
   "version": "3.7.1"
  }
 },
 "nbformat": 4,
 "nbformat_minor": 2
}
