{
 "cells": [
  {
   "cell_type": "code",
   "execution_count": 33,
   "metadata": {},
   "outputs": [
    {
     "name": "stdout",
     "output_type": "stream",
     "text": [
      "up :3\n",
      "down :1\n",
      "height :8\n",
      "4\n"
     ]
    }
   ],
   "source": [
    "def snail():\n",
    "    \n",
    "    up = int(input(\"up :\"))\n",
    "    down = int(input(\"down :\"))\n",
    "    height = int(input(\"height :\"))\n",
    "#     up, down, height = map(int, input().split())\n",
    "    if (height - down)%(up - down) == 0:\n",
    "        \n",
    "        print(int((height - down)/(up - down)))\n",
    "        \n",
    "    elif (height - down)%(up - down) != 0:\n",
    "        \n",
    "        print(int((height - down)/(up - down))+1)\n",
    "\n",
    "    \n",
    "snail()"
   ]
  }
 ],
 "metadata": {
  "kernelspec": {
   "display_name": "Python 3",
   "language": "python",
   "name": "python3"
  },
  "language_info": {
   "codemirror_mode": {
    "name": "ipython",
    "version": 3
   },
   "file_extension": ".py",
   "mimetype": "text/x-python",
   "name": "python",
   "nbconvert_exporter": "python",
   "pygments_lexer": "ipython3",
   "version": "3.7.1"
  }
 },
 "nbformat": 4,
 "nbformat_minor": 2
}
