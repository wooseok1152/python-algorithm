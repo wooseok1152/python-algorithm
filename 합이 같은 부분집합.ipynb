{
 "cells": [
  {
   "cell_type": "code",
   "execution_count": 13,
   "metadata": {},
   "outputs": [
    {
     "name": "stdout",
     "output_type": "stream",
     "text": [
      "YES\n"
     ]
    }
   ],
   "source": [
    "import sys\n",
    "\n",
    "#sys.stdin = open(r\"C:\\Users\\user\\Desktop\\Documents\\파이썬 알고리즘 문제풀이(코딩테스트 대비)\\섹션 6\\4. 합이 같은 부분집합\\in1.txt\")\n",
    "\n",
    "def dfs(index):\n",
    "    \n",
    "    global check_dict\n",
    "    global input_value\n",
    "    global result\n",
    "    \n",
    "    if index == len(input_value):\n",
    "        \n",
    "        first_set = []\n",
    "        for i in input_value:\n",
    "            \n",
    "            if check_dict[i] == 1:\n",
    "                \n",
    "                first_set.append(i)\n",
    "        second_set = []\n",
    "        for j in input_value:\n",
    "        \n",
    "            if check_dict[j] == 0:\n",
    "                \n",
    "                second_set.append(j)\n",
    "        first_list_sum = sum(first_set)\n",
    "        second_list_sum = sum(second_set)\n",
    "#         print(check_dict, first_set, second_set)\n",
    "        if first_list_sum == second_list_sum:\n",
    "            \n",
    "            result.append(\"YES\")\n",
    "        else:\n",
    "            \n",
    "            result.append(\"NO\")\n",
    "        return\n",
    "    \n",
    "    check_dict[input_value[index]] = 1\n",
    "    dfs(index+1)\n",
    "    check_dict[input_value[index]] = 0\n",
    "    dfs(index+1)\n",
    "\n",
    "\n",
    "result = []\n",
    "input_count = int(input())\n",
    "input_value = list(map(int, input().split()))\n",
    "check_dict = {}\n",
    "for i in input_value:\n",
    "    \n",
    "    check_dict[i] = 0\n",
    "# print(check_dict)\n",
    "dfs(0)\n",
    "\n",
    "if \"YES\" in result:\n",
    "    \n",
    "    print(\"YES\")\n",
    "    \n",
    "else:\n",
    "    \n",
    "    print(\"NO\")"
   ]
  }
 ],
 "metadata": {
  "kernelspec": {
   "display_name": "Python 3",
   "language": "python",
   "name": "python3"
  },
  "language_info": {
   "codemirror_mode": {
    "name": "ipython",
    "version": 3
   },
   "file_extension": ".py",
   "mimetype": "text/x-python",
   "name": "python",
   "nbconvert_exporter": "python",
   "pygments_lexer": "ipython3",
   "version": "3.7.1"
  }
 },
 "nbformat": 4,
 "nbformat_minor": 2
}
