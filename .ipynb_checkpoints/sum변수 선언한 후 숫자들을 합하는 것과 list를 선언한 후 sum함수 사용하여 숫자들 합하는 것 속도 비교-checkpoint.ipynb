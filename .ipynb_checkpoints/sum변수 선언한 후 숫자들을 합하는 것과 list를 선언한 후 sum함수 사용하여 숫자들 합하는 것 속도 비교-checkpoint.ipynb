{
 "cells": [
  {
   "cell_type": "code",
   "execution_count": 7,
   "metadata": {},
   "outputs": [
    {
     "name": "stdout",
     "output_type": "stream",
     "text": [
      "4499998500000\n",
      "0.4318711757659912\n"
     ]
    }
   ],
   "source": [
    "# sum변수 생성한 후 합하는 경우\n",
    "import time\n",
    "\n",
    "start = time.time()\n",
    "\n",
    "summ = 0\n",
    "for i in range(1,3000000):\n",
    "    \n",
    "    summ = summ+i\n",
    "\n",
    "print(summ)\n",
    "print(time.time() - start)"
   ]
  },
  {
   "cell_type": "code",
   "execution_count": 8,
   "metadata": {},
   "outputs": [
    {
     "name": "stdout",
     "output_type": "stream",
     "text": [
      "4499998500000\n",
      "0.14912819862365723\n"
     ]
    }
   ],
   "source": [
    "# list변수를 생성한 후 sum함수를 사용하여 합하는 경우\n",
    "import time\n",
    "\n",
    "start = time.time()\n",
    "\n",
    "listt = list(range(1, 3000000))\n",
    "summ = sum(listt)\n",
    "\n",
    "print(summ)\n",
    "print(time.time() - start)"
   ]
  },
  {
   "cell_type": "code",
   "execution_count": null,
   "metadata": {},
   "outputs": [],
   "source": [
    "'''list를 선언한 후, sum함수를 사용하여 합하는 것이 훨씬 빠르다.'''"
   ]
  }
 ],
 "metadata": {
  "kernelspec": {
   "display_name": "Python 3",
   "language": "python",
   "name": "python3"
  },
  "language_info": {
   "codemirror_mode": {
    "name": "ipython",
    "version": 3
   },
   "file_extension": ".py",
   "mimetype": "text/x-python",
   "name": "python",
   "nbconvert_exporter": "python",
   "pygments_lexer": "ipython3",
   "version": "3.7.1"
  }
 },
 "nbformat": 4,
 "nbformat_minor": 2
}
