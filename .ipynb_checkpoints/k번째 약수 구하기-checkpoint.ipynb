{
 "cells": [
  {
   "cell_type": "code",
   "execution_count": 8,
   "metadata": {},
   "outputs": [
    {
     "data": {
      "text/plain": [
       "125"
      ]
     },
     "execution_count": 8,
     "metadata": {},
     "output_type": "execute_result"
    }
   ],
   "source": [
    "def find_deviser(n, k):\n",
    "    \n",
    "    try : \n",
    "        deviser_list = []\n",
    "        for i in range(1, n + 1):\n",
    "\n",
    "            if n%i == 0:\n",
    "\n",
    "                deviser_list.append(i)\n",
    "\n",
    "        return deviser_list[k-1]\n",
    "    \n",
    "    except : \n",
    "        \n",
    "        return -1\n",
    "    \n",
    "find_deviser(1000, 12)"
   ]
  },
  {
   "cell_type": "code",
   "execution_count": 18,
   "metadata": {},
   "outputs": [
    {
     "name": "stdout",
     "output_type": "stream",
     "text": [
      "320\n",
      "time : 0.0\n"
     ]
    }
   ],
   "source": [
    "# 해설 답변(for문의 break를 쓰는 것과 for else문을 쓴 것이 핵심이다.)\n",
    "import time\n",
    "\n",
    "def find_deviser2(n, k):\n",
    "    \n",
    "    start = time.time()\n",
    "    count = 0\n",
    "    for i in range(1, n+1):\n",
    "        \n",
    "        if n%i == 0:\n",
    "            \n",
    "            count = count + 1\n",
    "            if count == k:\n",
    "                \n",
    "                print(i)\n",
    "                break\n",
    "    \n",
    "    else : \n",
    "        \n",
    "        print(-1)\n",
    "                \n",
    "    print(\"time :\", time.time() - start)\n",
    "    \n",
    "find_deviser2(1000000, 20)"
   ]
  }
 ],
 "metadata": {
  "kernelspec": {
   "display_name": "Python 3",
   "language": "python",
   "name": "python3"
  },
  "language_info": {
   "codemirror_mode": {
    "name": "ipython",
    "version": 3
   },
   "file_extension": ".py",
   "mimetype": "text/x-python",
   "name": "python",
   "nbconvert_exporter": "python",
   "pygments_lexer": "ipython3",
   "version": "3.7.1"
  }
 },
 "nbformat": 4,
 "nbformat_minor": 2
}
