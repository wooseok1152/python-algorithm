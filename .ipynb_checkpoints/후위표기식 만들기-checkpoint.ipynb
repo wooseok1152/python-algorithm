{
 "cells": [
  {
   "cell_type": "code",
   "execution_count": null,
   "metadata": {},
   "outputs": [],
   "source": [
    "'''\n",
    "곱하기와 나누기가 더히기와 빼기보다 더 높은 우선순위를 가진다.\n",
    "후위표기식에선 먼저 계산해야하는 연산자를 앞쪽에 배치해야한다.\n",
    "연산자와 여는 괄호를 stack에 append하고, 피연산자는 string에 더해간다.\n",
    "'''"
   ]
  }
 ],
 "metadata": {
  "kernelspec": {
   "display_name": "Python 3",
   "language": "python",
   "name": "python3"
  },
  "language_info": {
   "codemirror_mode": {
    "name": "ipython",
    "version": 3
   },
   "file_extension": ".py",
   "mimetype": "text/x-python",
   "name": "python",
   "nbconvert_exporter": "python",
   "pygments_lexer": "ipython3",
   "version": "3.7.1"
  }
 },
 "nbformat": 4,
 "nbformat_minor": 2
}
