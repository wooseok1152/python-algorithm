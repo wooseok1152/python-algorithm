{
 "cells": [
  {
   "cell_type": "code",
   "execution_count": 4,
   "metadata": {},
   "outputs": [
    {
     "name": "stdout",
     "output_type": "stream",
     "text": [
      "5\n"
     ]
    }
   ],
   "source": [
    "'''\n",
    "이중 반복문으로 풀면 O(n^2)이 되기 때문에, 입력값이 큰 데이터에 대해선 time limit이 뜬다.\n",
    "그러므로 반복문을 한 번 사용하고, left_location부터 right_location 전까지 더하는 방식으로 알고리즘을 짜야한다.\n",
    "left_location과 right_location 전까지 존재하는 모든 요소를 더하는 것이기 때문에, \n",
    "left_location이 오른쪽으로 이동하면 모든 요소의 합은 전보다 줄어들고, right_location이 오른쪽으로 이동하면 모든 요소의 합은 전보다 증가한다. \n",
    "'''\n",
    "import sys\n",
    "\n",
    "#sys.stdin = open(r\"C:\\Users\\my\\Desktop\\Documents\\파이썬 알고리즘 문제풀이(코딩테스트 대비)\\섹션 3\\5. 수들의 합\\in2.txt\")\n",
    "input_list_num, target = list(map(int, input().split()))\n",
    "input_list = list(map(int, input().split()))\n",
    "\n",
    "def seq_sum(input_list):\n",
    "    \n",
    "    total = 0\n",
    "    left_location = 0\n",
    "    right_location = 1\n",
    "    count = 0\n",
    "    while True:\n",
    "        \n",
    "        total = sum(input_list[left_location : right_location])\n",
    "        if total < target :\n",
    "            \n",
    "            if right_location == len(input_list) and input_list[right_location - 1] == target:\n",
    "                \n",
    "                count = count + 1\n",
    "                break\n",
    "            \n",
    "            elif right_location == len(input_list) and input_list[right_location - 1] != target:\n",
    "                \n",
    "                break\n",
    "            \n",
    "            else :\n",
    "                \n",
    "                right_location = right_location + 1\n",
    "        \n",
    "        elif total == target:\n",
    "            \n",
    "            total = 0\n",
    "            count = count + 1\n",
    "            left_location = left_location + 1\n",
    "            \n",
    "        elif total > target:\n",
    "            \n",
    "            total = 0\n",
    "            left_location = left_location + 1\n",
    "            if left_location == right_location :\n",
    "                \n",
    "                right_location = right_location + 1\n",
    "        \n",
    "        if left_location == len(input_list) - 1:\n",
    "            \n",
    "            break\n",
    "            \n",
    "    print(count)\n",
    "\n",
    "    \n",
    "seq_sum(input_list)\n"
   ]
  }
 ],
 "metadata": {
  "kernelspec": {
   "display_name": "Python 3",
   "language": "python",
   "name": "python3"
  },
  "language_info": {
   "codemirror_mode": {
    "name": "ipython",
    "version": 3
   },
   "file_extension": ".py",
   "mimetype": "text/x-python",
   "name": "python",
   "nbconvert_exporter": "python",
   "pygments_lexer": "ipython3",
   "version": "3.7.1"
  }
 },
 "nbformat": 4,
 "nbformat_minor": 2
}
