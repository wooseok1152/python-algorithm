{
 "cells": [
  {
   "cell_type": "code",
   "execution_count": 4,
   "metadata": {},
   "outputs": [
    {
     "name": "stdout",
     "output_type": "stream",
     "text": [
      "24\n"
     ]
    }
   ],
   "source": [
    "'''\n",
    "\"()\"는 레이저를 의마하기 때문에, ()이 등장하면 이것보다 앞에 위치한 막대들은 잘라진다. 잘라진 막대의 개수만큼 count를 증가시켜야 한다.\n",
    "만약 \")\"이 등장했고 이것이 특정 막대의 끝 지점을 의미한다면, count를 '1' 증가 시킨다. \n",
    "왜냐하면 막대가 끝났을 때 해당 막대의 끝에서 잘라진 한 조각이 count되지 않은 상태로 있기 때문이다. \n",
    "'''\n",
    "\n",
    "input_list = list(\"(((()(()()))(())()))(()())\")\n",
    "\n",
    "def iron_stick(input_list) :\n",
    "    \n",
    "    count = 0\n",
    "    stack = []\n",
    "    for i, j in enumerate(input_list):\n",
    "        \n",
    "        if j == \"(\":\n",
    "            \n",
    "            stack.append(j)\n",
    "        \n",
    "        else :\n",
    "            \n",
    "            if input_list[i-1] == \"(\":\n",
    "                \n",
    "                stack.pop()\n",
    "                count  = count + len(stack)\n",
    "                \n",
    "            else :\n",
    "                \n",
    "                stack.pop()\n",
    "                count = count + 1\n",
    "                \n",
    "    print(count)\n",
    "    \n",
    "iron_stick(input_list)"
   ]
  }
 ],
 "metadata": {
  "kernelspec": {
   "display_name": "Python 3",
   "language": "python",
   "name": "python3"
  },
  "language_info": {
   "codemirror_mode": {
    "name": "ipython",
    "version": 3
   },
   "file_extension": ".py",
   "mimetype": "text/x-python",
   "name": "python",
   "nbconvert_exporter": "python",
   "pygments_lexer": "ipython3",
   "version": "3.7.1"
  }
 },
 "nbformat": 4,
 "nbformat_minor": 2
}
