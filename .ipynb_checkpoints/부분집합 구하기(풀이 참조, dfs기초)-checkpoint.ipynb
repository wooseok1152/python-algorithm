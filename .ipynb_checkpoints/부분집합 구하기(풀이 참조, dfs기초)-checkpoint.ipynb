{
 "cells": [
  {
   "cell_type": "code",
   "execution_count": 6,
   "metadata": {},
   "outputs": [
    {
     "name": "stdout",
     "output_type": "stream",
     "text": [
      "1 2 3 \n",
      "1 2 \n",
      "1 3 \n",
      "1 \n",
      "2 3 \n",
      "2 \n",
      "3 \n",
      "\n"
     ]
    }
   ],
   "source": [
    "'''\n",
    "dfs를 구현하기 위해선 상태 트리를 잘 만들어야 하고, 이를 재귀함수로 구현해야 한다.\n",
    "'상태트리'는 주어진 원소들과 해당 원소들에 대한 상태를 나타낸 트리이다. 트리의 간선이 해당 원소의 상태를 의미한다.\n",
    "상태트리를 이용하면, 주어진 상황 내 원소들의 상태에 대한 경우의 수를 표현할 수 있다.\n",
    "'''\n",
    "import sys\n",
    "sys.stdin = open(r\"C:\\Users\\user\\Desktop\\Documents\\파이썬 알고리즘 문제풀이(코딩테스트 대비)\\섹션 6\\3. 부분집합 구하기\\in1.txt\")\n",
    "def dfs(n):\n",
    "    \n",
    "    global input_value\n",
    "    global check_list\n",
    "    if n == input_value + 1:\n",
    "        \n",
    "        for i in range(len(check_list)):\n",
    "            \n",
    "            if check_list[i] == 1:\n",
    "                \n",
    "                print(i, end = \" \")\n",
    "        print()\n",
    "        return\n",
    "    check_list[n] = 1\n",
    "    dfs(n + 1)\n",
    "    check_list[n] = 0\n",
    "    dfs(n+1)\n",
    "\n",
    "input_value = int(input())\n",
    "\n",
    "# 원소들의 상태를 나타내는 list\n",
    "check_list = [0] * (input_value+1)\n",
    "dfs(1)"
   ]
  }
 ],
 "metadata": {
  "kernelspec": {
   "display_name": "Python 3",
   "language": "python",
   "name": "python3"
  },
  "language_info": {
   "codemirror_mode": {
    "name": "ipython",
    "version": 3
   },
   "file_extension": ".py",
   "mimetype": "text/x-python",
   "name": "python",
   "nbconvert_exporter": "python",
   "pygments_lexer": "ipython3",
   "version": "3.7.1"
  }
 },
 "nbformat": 4,
 "nbformat_minor": 2
}
