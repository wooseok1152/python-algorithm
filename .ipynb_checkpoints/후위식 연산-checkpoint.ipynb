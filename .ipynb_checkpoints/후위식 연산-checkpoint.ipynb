{
 "cells": [
  {
   "cell_type": "code",
   "execution_count": null,
   "metadata": {},
   "outputs": [],
   "source": [
    "import sys\n",
    "sys.stdin = open(r\"C:\\Users\\my\\Desktop\\Documents\\파이썬 알고리즘 문제풀이(코딩테스트 대비)\\섹션 5\\4. 후위식 연산\\in1.txt\")\n",
    "input_list = list(input())\n",
    "\n",
    "def calculate_postix(input_list):\n",
    "\n",
    "    operater = [\"+\" , \"-\", \"*\" ,\"/\"]\n",
    " \n",
    "    while True:\n",
    "        \n",
    "        if len(input_list) == 1:\n",
    "        \n",
    "            print(input_list[0])\n",
    "            break\n",
    "\n",
    "        else:\n",
    "            \n",
    "            for i in range(len(input_list)):\n",
    "                \n",
    "                if input_list[i] in operater:\n",
    "                    \n",
    "                    list_with_targets_for_calculatiing = []\n",
    "                    list_with_targets_for_calculatiing.append(int(input_list[i-2]))\n",
    "                    list_with_targets_for_calculatiing.append(input_list[i])\n",
    "                    list_with_targets_for_calculatiing.append(int(input_list[i-1]))\n",
    "                    input_list.pop(i-2)\n",
    "                    input_list.pop(i-2)\n",
    "                    input_list.pop(i-2)\n",
    "                    if list_with_targets_for_calculatiing[1] == \"+\":\n",
    "\n",
    "                        result = list_with_targets_for_calculatiing[0] + list_with_targets_for_calculatiing[2]\n",
    "                        input_list.insert(i-2, result)\n",
    "\n",
    "                    elif list_with_targets_for_calculatiing[1] == \"-\":\n",
    "\n",
    "                        result = list_with_targets_for_calculatiing[0] - list_with_targets_for_calculatiing[2]\n",
    "                        input_list.insert(i-2, result)\n",
    "                        \n",
    "                    elif list_with_targets_for_calculatiing[1] == \"*\":\n",
    "\n",
    "                        result = list_with_targets_for_calculatiing[0] * list_with_targets_for_calculatiing[2]\n",
    "                        input_list.insert(i-2, result)\n",
    "\n",
    "                    elif list_with_targets_for_calculatiing[1] == \"/\":\n",
    "\n",
    "                        result = list_with_targets_for_calculatiing[0] / list_with_targets_for_calculatiing[2]\n",
    "                        input_list.insert(i-2, result)\n",
    "                    \n",
    "                    break\n",
    "\n",
    "\n",
    "calculate_postix(input_list)\n",
    "            "
   ]
  },
  {
   "cell_type": "code",
   "execution_count": 7,
   "metadata": {},
   "outputs": [
    {
     "name": "stdout",
     "output_type": "stream",
     "text": [
      "[1, 5, 3, 4]\n"
     ]
    }
   ],
   "source": [
    "a = [1,2,3,4]\n",
    "a.pop(1)\n",
    "a.insert(1, 5)\n",
    "print(a)"
   ]
  }
 ],
 "metadata": {
  "kernelspec": {
   "display_name": "Python 3",
   "language": "python",
   "name": "python3"
  },
  "language_info": {
   "codemirror_mode": {
    "name": "ipython",
    "version": 3
   },
   "file_extension": ".py",
   "mimetype": "text/x-python",
   "name": "python",
   "nbconvert_exporter": "python",
   "pygments_lexer": "ipython3",
   "version": "3.7.1"
  }
 },
 "nbformat": 4,
 "nbformat_minor": 2
}
