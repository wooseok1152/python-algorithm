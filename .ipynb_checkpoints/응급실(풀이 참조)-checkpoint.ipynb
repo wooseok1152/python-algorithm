{
 "cells": [
  {
   "cell_type": "code",
   "execution_count": 3,
   "metadata": {},
   "outputs": [
    {
     "name": "stdout",
     "output_type": "stream",
     "text": [
      "5\n"
     ]
    }
   ],
   "source": [
    "'''\n",
    "list 내 모든 요소에 꼬리표를 달고 싶으면, enumarte를 활용하여 모든 요소를 '(꼬리표, value)'형식의 tuple로 변환하면 된다.\n",
    "'''\n",
    "\n",
    "import sys\n",
    "\n",
    "sys.stdin = open(r\"C:\\Users\\user\\Desktop\\Documents\\파이썬 알고리즘 문제풀이(코딩테스트 대비)\\섹션 5\\6. 응급실\\in1.txt\")\n",
    "n, target = list(map(int, input().split()))\n",
    "input_list = list(map(int, input().split()))\n",
    "input_list = [(i, j) for i, j in enumerate(input_list)]\n",
    "\n",
    "def emergency_room(input_list):\n",
    "    \n",
    "    count = 0\n",
    "    while True:\n",
    "        \n",
    "        values_list=  []\n",
    "        for i in input_list:\n",
    "            \n",
    "            values_list.append(i[1])\n",
    "        biggest_value = max(values_list)\n",
    "        if input_list[0][1] == biggest_value:\n",
    "            \n",
    "            if input_list[0][0] == target:\n",
    "                \n",
    "                print(count + 1)\n",
    "                break\n",
    "            input_list.pop(0)\n",
    "            count = count + 1\n",
    "            \n",
    "        else :\n",
    "            \n",
    "            input_list.append(input_list.pop(0))\n",
    "        \n",
    "\n",
    "emergency_room(input_list)"
   ]
  }
 ],
 "metadata": {
  "kernelspec": {
   "display_name": "Python 3",
   "language": "python",
   "name": "python3"
  },
  "language_info": {
   "codemirror_mode": {
    "name": "ipython",
    "version": 3
   },
   "file_extension": ".py",
   "mimetype": "text/x-python",
   "name": "python",
   "nbconvert_exporter": "python",
   "pygments_lexer": "ipython3",
   "version": "3.7.1"
  }
 },
 "nbformat": 4,
 "nbformat_minor": 2
}
