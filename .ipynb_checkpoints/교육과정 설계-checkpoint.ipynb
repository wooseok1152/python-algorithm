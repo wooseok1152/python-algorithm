{
 "cells": [
  {
   "cell_type": "code",
   "execution_count": 10,
   "metadata": {},
   "outputs": [
    {
     "name": "stdout",
     "output_type": "stream",
     "text": [
      "['YES', 'NO', 'YES']\n"
     ]
    }
   ],
   "source": [
    "import sys\n",
    "\n",
    "#sys.stdin = open(r\"C:\\Users\\user\\Desktop\\Documents\\파이썬 알고리즘 문제풀이(코딩테스트 대비)\\섹션 5\\7. 교육과정 설계\\in2.txt\")\n",
    "\n",
    "target = input()\n",
    "n = int(input())\n",
    "input_list = [input() for i in range(n)]\n",
    "result = []\n",
    "\n",
    "for i in input_list:\n",
    "    \n",
    "    backet = []\n",
    "    for j in list(i):\n",
    "        \n",
    "        if j in list(target):\n",
    "            \n",
    "            if j in backet :\n",
    "                \n",
    "                pass\n",
    "            \n",
    "            else:\n",
    "                \n",
    "                backet.append(j)\n",
    "    backet = list(backet)\n",
    "    string = \"\"\n",
    "    for i in backet:\n",
    "        \n",
    "        string = string + i\n",
    "    if string == target:\n",
    "        \n",
    "        result.append(\"YES\")\n",
    "    else:\n",
    "        \n",
    "        result.append(\"NO\")\n",
    "\n",
    "for i, j in enumerate(result):\n",
    "\n",
    "    print(\"#\" + str(i+1), j)"
   ]
  }
 ],
 "metadata": {
  "kernelspec": {
   "display_name": "Python 3",
   "language": "python",
   "name": "python3"
  },
  "language_info": {
   "codemirror_mode": {
    "name": "ipython",
    "version": 3
   },
   "file_extension": ".py",
   "mimetype": "text/x-python",
   "name": "python",
   "nbconvert_exporter": "python",
   "pygments_lexer": "ipython3",
   "version": "3.7.1"
  }
 },
 "nbformat": 4,
 "nbformat_minor": 2
}
