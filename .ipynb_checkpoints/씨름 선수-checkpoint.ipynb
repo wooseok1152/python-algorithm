{
 "cells": [
  {
   "cell_type": "code",
   "execution_count": 1,
   "metadata": {},
   "outputs": [
    {
     "name": "stdout",
     "output_type": "stream",
     "text": [
      "[[181, 60], [183, 65], [172, 67], [180, 70], [170, 72]]\n"
     ]
    }
   ],
   "source": [
    "_input_list = [[172, 67], [183, 65], [180, 70], [170, 72], [181, 60]]\n",
    "\n",
    "def count_wrestling():\n",
    "    \n",
    "    input_list = sorted(_input_list, key = lambda x : x[1])\n",
    "    total_count = len(input_list)\n",
    "    print(input_list)\n",
    "    count = 0\n",
    "    for i in range(len(input_list)):\n",
    "        \n",
    "        target_player = input_list[i]\n",
    "        for j in range(i+1, len(input_list)):\n",
    "            \n",
    "            if target_player[0] < input_list[j][0]:\n",
    "                \n",
    "                count = count + 1\n",
    "    \n",
    "    print(total_count = count)\n",
    "        \n",
    "                        \n",
    "count_wrestling()"
   ]
  },
  {
   "cell_type": "code",
   "execution_count": null,
   "metadata": {},
   "outputs": [],
   "source": []
  }
 ],
 "metadata": {
  "kernelspec": {
   "display_name": "Python 3",
   "language": "python",
   "name": "python3"
  },
  "language_info": {
   "codemirror_mode": {
    "name": "ipython",
    "version": 3
   },
   "file_extension": ".py",
   "mimetype": "text/x-python",
   "name": "python",
   "nbconvert_exporter": "python",
   "pygments_lexer": "ipython3",
   "version": "3.7.1"
  }
 },
 "nbformat": 4,
 "nbformat_minor": 2
}
