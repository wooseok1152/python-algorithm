{
 "cells": [
  {
   "cell_type": "code",
   "execution_count": 5,
   "metadata": {},
   "outputs": [
    {
     "name": "stdout",
     "output_type": "stream",
     "text": [
      "random_number_int_list : [66, 37, 54, 47, 34, 78, 61, 9, 45, 28] \n",
      "\n",
      "mean : 46 \n",
      "\n",
      "deviation_list : [20, 9, 8, 1, 12, 32, 15, 37, 1, 18] \n",
      "\n",
      "min_value : 1 \n",
      "\n",
      "min_value_index_list : [3, 8] \n",
      "\n"
     ]
    },
    {
     "data": {
      "text/plain": [
       "4"
      ]
     },
     "execution_count": 5,
     "metadata": {},
     "output_type": "execute_result"
    }
   ],
   "source": [
    "import random\n",
    "\n",
    "def close_number_with_mean(n):\n",
    "    \n",
    "    '''난수 생성'''\n",
    "    random_number_int_list = [66, 37, 54, 47, 34, 78, 61, 9, 45, 28]\n",
    "#     random_number_int_list = random.sample(range(1, 101), n)\n",
    "#     random_number_int_list = [25, 60, 17, 60, 11, 15, 27, 42, 39, 31, 25, 36, 32, 25, 17, 45, 67, 89, 24, 65, 13, 34, 17, 6, 11, 15, 27, 42, 39, 31, 25, 36, 32, 25, 17, 45, 67, 89, 24, 65, 13, 34, 17, 6, 11, 15, 27, 42, 39, 31, 25, 36, 32, 25, 17, 45, 67, 89, 24, 65]\n",
    "    print(\"random_number_int_list :\",random_number_int_list, \"\\n\")\n",
    "    \n",
    "    '''생성된 난수들의 평균 구하기'''\n",
    "    list_sum = 0\n",
    "    for i in random_number_int_list:\n",
    "        \n",
    "        list_sum = list_sum + i\n",
    "        mean = list_sum/n\n",
    "        \n",
    "    mean = round(mean)\n",
    "    print(\"mean :\", mean, \"\\n\")\n",
    "    \n",
    "    '''난수의 편차 구하기'''\n",
    "    deviation_list = []\n",
    "    for i in random_number_int_list:\n",
    "        \n",
    "        deviation = i - mean\n",
    "        if deviation < 0:\n",
    "            \n",
    "            deviation = deviation * -1\n",
    "            \n",
    "        deviation_list.append(deviation)\n",
    "        \n",
    "    print(\"deviation_list :\", deviation_list, \"\\n\")\n",
    "    \n",
    "    '''편차가 제일 작은 난수의 index만 선택하여, 해당 index들을 min_value_index_list에 append하기'''\n",
    "    min_value = min(deviation_list)\n",
    "    print(\"min_value :\", min_value, \"\\n\")\n",
    "    min_value_index_list = []\n",
    "    for i in range(len(deviation_list)):\n",
    "        \n",
    "        if deviation_list[i] == min_value:\n",
    "            \n",
    "            min_value_index_list.append(i)\n",
    "            \n",
    "    print(\"min_value_index_list :\", min_value_index_list, \"\\n\")\n",
    "    \n",
    "    '''1. 편차가 제일 작은 난수의 index가 한 개일 때, 해당 index return 2. 편차가 제일 작은 난수의 index가 두 개일 때, 원 점수가 큰 index return 3. 편차가 제일 작은 난수의 index가 세 개 이상일 때, 원 점수가 크고 작은 index return'''\n",
    "    if len(min_value_index_list) == 1:\n",
    "        \n",
    "        lower_index = min_value_index_list[0]\n",
    "        return lower_index + 1\n",
    "    \n",
    "\n",
    "    elif len(min_value_index_list) == 2:\n",
    "            \n",
    "        first_min_value = random_number_int_list[min_value_index_list[0]]\n",
    "        second_min_value = random_number_int_list[min_value_index_list[1]]\n",
    "        if first_min_value == second_min_value:\n",
    "            \n",
    "            lower_index = min(min_value_index_list)\n",
    "            return lower_index + 1\n",
    "        \n",
    "        elif first_min_value < second_min_value:\n",
    "            \n",
    "            lower_index = min_value_index_list[1]\n",
    "            return lower_index + 1\n",
    "        \n",
    "        else :\n",
    "            \n",
    "            lower_index = min_value_index_list[0]\n",
    "            return lower_index + 1\n",
    "    \n",
    "\n",
    "    else :\n",
    "        \n",
    "        number_list_mapping_with_min_value_index_list = []\n",
    "        for i in min_value_index_list:\n",
    "            \n",
    "            number_list_mapping_with_min_value_index_list.append([i, random_number_int_list[i]])\n",
    "        \n",
    "        print(\"number_list_mapping_with_min_value_index_list :\", number_list_mapping_with_min_value_index_list, \"\\n\")\n",
    "        \n",
    "        value_list = []\n",
    "        for i in range(len(number_list_mapping_with_min_value_index_list)):\n",
    "            \n",
    "            value_list.append(number_list_mapping_with_min_value_index_list[i][1])\n",
    "            \n",
    "        max_in_value_list = max(value_list)\n",
    "        new_number_list_mapping_with_min_value_index_list = []\n",
    "        for i in number_list_mapping_with_min_value_index_list:\n",
    "            \n",
    "            if i[1] == max_in_value_list:\n",
    "                \n",
    "                new_number_list_mapping_with_min_value_index_list.append(i)\n",
    "        \n",
    "        print(\"new_number_list_mapping_with_min_value_index_list :\", new_number_list_mapping_with_min_value_index_list)        \n",
    "        return new_number_list_mapping_with_min_value_index_list[0][0]+1\n",
    "    \n",
    "close_number_with_mean(10)"
   ]
  },
  {
   "cell_type": "code",
   "execution_count": 8,
   "metadata": {},
   "outputs": [],
   "source": [
    "# 해설 답변(for문의 enumerate의 활용과 abs함수의 활용을 통해 최적화를 할 수 있다.) \n",
    "def close_number_with_mean2(n):\n",
    "    \n",
    "    '''난수 생성'''\n",
    "    random_number_int_list = [66, 37, 54, 47, 34, 78, 61, 9, 45, 28]\n",
    "#     random_number_int_list = random.sample(range(1, 101), n)\n",
    "#     random_number_int_list = [25, 60, 17, 60, 11, 15, 27, 42, 39, 31, 25, 36, 32, 25, 17, 45, 67, 89, 24, 65, 13, 34, 17, 6, 11, 15, 27, 42, 39, 31, 25, 36, 32, 25, 17, 45, 67, 89, 24, 65, 13, 34, 17, 6, 11, 15, 27, 42, 39, 31, 25, 36, 32, 25, 17, 45, 67, 89, 24, 65]\n",
    "    print(\"random_number_int_list :\",random_number_int_list, \"\\n\")\n",
    "    \n",
    "    '''생성된 난수들의 평균 구하기'''\n",
    "    \n",
    "    # 일반적인 반올림은 앞으로 이렇게 실시한다. round함수는 쓰면 안됨!\n",
    "    avg = sum(random_number_int_list)/len(random_number_int_list)\n",
    "    avg = int(avg + 0.5)\n",
    "    print(\"avg :\", avg, \"\\n\")\n",
    "    \n",
    "    '''편차 구하기'''\n",
    "    deviation_list = []\n",
    "    for i, value in enumerate(random_number_int_list):\n",
    "        \n",
    "        # abs() : 절대값을 return하는 함수\n",
    "        deviation_list.append(abs(avg-value))\n",
    "    \n",
    "    print(\"deviation_list :\", deviation_list, \"\\n\")\n",
    "    \n",
    "    '''편차가 제일 작은 학생의 번호 구하기'''\n",
    "    min_deviation = 2147000000\n",
    "    for i, value in enumerate(deviation_list):\n",
    "        \n",
    "        if value < min_deviation:\n",
    "            \n",
    "            min_deviation = value\n",
    "            student_index = i\n",
    "            \n",
    "        elif value == min_deviation:\n",
    "            \n",
    "            if random_number_int_list[i] > random_number_int_list[student_index]:\n",
    "                \n",
    "                min_deviation = value\n",
    "                student_index = i\n",
    "                \n",
    "    return(avg, student_index+1)\n",
    "    \n"
   ]
  },
  {
   "cell_type": "code",
   "execution_count": 9,
   "metadata": {},
   "outputs": [
    {
     "name": "stdout",
     "output_type": "stream",
     "text": [
      "random_number_int_list : [66, 37, 54, 47, 34, 78, 61, 9, 45, 28] \n",
      "\n",
      "avg : 46 \n",
      "\n",
      "deviation_list : [20, 9, 8, 1, 12, 32, 15, 37, 1, 18] \n",
      "\n"
     ]
    },
    {
     "data": {
      "text/plain": [
       "(46, 4)"
      ]
     },
     "execution_count": 9,
     "metadata": {},
     "output_type": "execute_result"
    }
   ],
   "source": [
    "close_number_with_mean2(10)"
   ]
  }
 ],
 "metadata": {
  "kernelspec": {
   "display_name": "Python 3",
   "language": "python",
   "name": "python3"
  },
  "language_info": {
   "codemirror_mode": {
    "name": "ipython",
    "version": 3
   },
   "file_extension": ".py",
   "mimetype": "text/x-python",
   "name": "python",
   "nbconvert_exporter": "python",
   "pygments_lexer": "ipython3",
   "version": "3.7.1"
  }
 },
 "nbformat": 4,
 "nbformat_minor": 2
}
