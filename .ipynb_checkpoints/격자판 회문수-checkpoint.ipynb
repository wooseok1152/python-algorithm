{
 "cells": [
  {
   "cell_type": "code",
   "execution_count": 14,
   "metadata": {},
   "outputs": [
    {
     "name": "stdout",
     "output_type": "stream",
     "text": [
      "3\n"
     ]
    }
   ],
   "source": [
    "import sys\n",
    "sys.stdin = open(\"in1.txt\", \"r\")\n",
    "input_matrix = [list(map(int, input().split())) for _ in range(7)]\n",
    "\n",
    "# input_matrix = [[2, 4, 1, 5, 3, 2, 6],\n",
    "#                [3, 5, 1, 8, 7, 1, 7],\n",
    "#                [8, 3, 2, 7, 1, 3, 8],\n",
    "#                [6, 1, 2, 3, 2, 1, 1],\n",
    "#                [1, 3, 1, 3, 5, 3, 2],\n",
    "#                [1, 1, 2, 5, 6, 5, 2],\n",
    "#                [1, 2, 2, 2, 2, 1, 5]]\n",
    "\n",
    "def find_five_pailndrome():\n",
    "    \n",
    "    count = 0\n",
    "    for i in range(len(input_matrix)):\n",
    "        \n",
    "        five_element_list = []\n",
    "        for j in range(3):\n",
    "            \n",
    "            five_element_list.append(input_matrix[i][j:j+5])\n",
    "            \n",
    "        for k in range(len(five_element_list)):\n",
    "            \n",
    "            target = five_element_list[k]\n",
    "            five_element_list_reversed = target[::-1]\n",
    "            if target == five_element_list_reversed:\n",
    "\n",
    "                count = count + 1\n",
    "\n",
    "    for i in range(len(input_matrix)):\n",
    "        \n",
    "        coloumn_element_list = []\n",
    "        five_element_list = []\n",
    "        for j in range(len(input_matrix)):\n",
    "            \n",
    "            coloumn_element_list.append(input_matrix[j][i])\n",
    "            \n",
    "#         print(\"coloumn_element_list :\", coloumn_element_list)\n",
    "            \n",
    "        for k in range(3):\n",
    "            \n",
    "            five_element_list.append(coloumn_element_list[k:k+5])\n",
    "        \n",
    "#         print(\"five_element_list :\", five_element_list)\n",
    "        for l in range(len(five_element_list)):\n",
    "            \n",
    "            target = five_element_list[l]\n",
    "            five_element_list_reversed = target[::-1]\n",
    "            if target == five_element_list_reversed:\n",
    "\n",
    "                count = count + 1\n",
    "\n",
    "    print(count)\n",
    "    \n",
    "find_five_pailndrome()\n",
    "        "
   ]
  },
  {
   "cell_type": "code",
   "execution_count": 3,
   "metadata": {},
   "outputs": [
    {
     "name": "stdout",
     "output_type": "stream",
     "text": [
      "[1, 1, 1]\n",
      "[1, 1, 1]\n",
      "True\n"
     ]
    }
   ],
   "source": [
    "a = [1,1,1]\n",
    "a_reversed = a[::-1]\n",
    "print(a)\n",
    "print(a_reversed)\n",
    "\n",
    "print(a == a_reversed)"
   ]
  }
 ],
 "metadata": {
  "kernelspec": {
   "display_name": "Python 3",
   "language": "python",
   "name": "python3"
  },
  "language_info": {
   "codemirror_mode": {
    "name": "ipython",
    "version": 3
   },
   "file_extension": ".py",
   "mimetype": "text/x-python",
   "name": "python",
   "nbconvert_exporter": "python",
   "pygments_lexer": "ipython3",
   "version": "3.7.1"
  }
 },
 "nbformat": 4,
 "nbformat_minor": 2
}
