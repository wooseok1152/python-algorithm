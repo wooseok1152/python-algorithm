{
 "cells": [
  {
   "cell_type": "code",
   "execution_count": 4,
   "metadata": {},
   "outputs": [
    {
     "name": "stdout",
     "output_type": "stream",
     "text": [
      "[14, 40, 42, 65, 68, 69, 76, 76, 81, 87]\n",
      "20\n"
     ]
    }
   ],
   "source": [
    "import sys\n",
    "sys.stdin = open(r\"C:\\Users\\my\\Desktop\\Documents\\파이썬 알고리즘 문제풀이(코딩테스트 대비)\\섹션 4\\7. 창고 정리\\1n1.txt\", \"r\")\n",
    "n = input()\n",
    "_input_list = list(map(int, input().split()))\n",
    "m = input()\n",
    "\n",
    "def clean_warehouse():\n",
    "    \n",
    "    input_list = sorted(_input_list)\n",
    "    print(input_list)\n",
    "    for i in range(m):\n",
    "        \n",
    "        input_list[0] = input_list[0] + 1\n",
    "        input_list[-1] = input_list[-1] -1\n",
    "        input_list = sorted(input_list)\n",
    "    \n",
    "    print(input_list[-1] - input_list[0])\n",
    "    \n",
    "    \n",
    "clean_warehouse()"
   ]
  }
 ],
 "metadata": {
  "kernelspec": {
   "display_name": "Python 3",
   "language": "python",
   "name": "python3"
  },
  "language_info": {
   "codemirror_mode": {
    "name": "ipython",
    "version": 3
   },
   "file_extension": ".py",
   "mimetype": "text/x-python",
   "name": "python",
   "nbconvert_exporter": "python",
   "pygments_lexer": "ipython3",
   "version": "3.7.1"
  }
 },
 "nbformat": 4,
 "nbformat_minor": 2
}
