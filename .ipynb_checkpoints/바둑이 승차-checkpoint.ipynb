{
 "cells": [
  {
   "cell_type": "code",
   "execution_count": 12,
   "metadata": {},
   "outputs": [
    {
     "name": "stdout",
     "output_type": "stream",
     "text": [
      "{0: 0, 1: 0, 2: 0, 3: 0, 4: 0}\n",
      "242\n"
     ]
    }
   ],
   "source": [
    "\n",
    "def dfs(index):\n",
    "    \n",
    "    global check_dog\n",
    "    global input_list\n",
    "    global result_weights\n",
    "    global max_weight\n",
    "    \n",
    "    if index == len(input_list):\n",
    "        \n",
    "        weight_sum = 0\n",
    "        for i in range(len(input_list)):\n",
    "            \n",
    "            if check_dog[i] == 1:\n",
    "                \n",
    "                weight_sum = weight_sum + input_list[i]\n",
    "        if weight_sum <= max_weight:\n",
    "            \n",
    "            result_weights.append(weight_sum)\n",
    "        return\n",
    "    check_dog[index] = 1\n",
    "    dfs(index + 1)\n",
    "    check_dog[index] = 0\n",
    "    dfs(index + 1)\n",
    "\n",
    "dog_count = 5\n",
    "max_weight = 259\n",
    "input_list = [81, 58, 42, 33, 61]\n",
    "check_dog = {}\n",
    "result_weights = []\n",
    "for i in range(len(input_list)):\n",
    "    \n",
    "    check_dog[i] = 0\n",
    "print(check_dog)\n",
    "dfs(0)\n",
    "print(max(sorted(result_weights)))\n"
   ]
  }
 ],
 "metadata": {
  "kernelspec": {
   "display_name": "Python 3",
   "language": "python",
   "name": "python3"
  },
  "language_info": {
   "codemirror_mode": {
    "name": "ipython",
    "version": 3
   },
   "file_extension": ".py",
   "mimetype": "text/x-python",
   "name": "python",
   "nbconvert_exporter": "python",
   "pygments_lexer": "ipython3",
   "version": "3.7.1"
  }
 },
 "nbformat": 4,
 "nbformat_minor": 2
}
