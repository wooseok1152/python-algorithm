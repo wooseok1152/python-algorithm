{
 "cells": [
  {
   "cell_type": "code",
   "execution_count": 4,
   "metadata": {},
   "outputs": [
    {
     "name": "stdout",
     "output_type": "stream",
     "text": [
      "{0: 0, 1: 0, 2: 0, 3: 0, 4: 0} \n",
      "\n",
      "{0: 1, 1: 0, 2: 0, 3: 0, 4: 0} 81\n",
      "{0: 1, 1: 1, 2: 0, 3: 0, 4: 0} 139\n",
      "{0: 1, 1: 1, 2: 1, 3: 0, 4: 0} 181\n",
      "{0: 1, 1: 1, 2: 1, 3: 1, 4: 0} 214\n",
      "{0: 1, 1: 1, 2: 1, 3: 1, 4: 1} 275\n",
      "{0: 1, 1: 1, 2: 1, 3: 1, 4: 0} 214\n",
      "{0: 1, 1: 1, 2: 1, 3: 0, 4: 0} 181\n",
      "{0: 1, 1: 1, 2: 0, 3: 0, 4: 0} 139\n",
      "{0: 1, 1: 0, 2: 0, 3: 0, 4: 0} 81\n",
      "{0: 0, 1: 0, 2: 0, 3: 0, 4: 0} 0\n",
      "\n",
      " 214\n"
     ]
    }
   ],
   "source": [
    "import sys\n",
    "\n",
    "#sys.stdin = open(r\"C:\\Users\\my\\Desktop\\Documents\\파이썬 알고리즘 문제풀이(코딩테스트 대비)\\섹션 6\\5. 바둑이 승차\\in1.txt\")\n",
    "\n",
    "def dfs(level, level_sum):\n",
    "    \n",
    "    global check_dog\n",
    "    global input_list\n",
    "    global max_weight\n",
    "    global target\n",
    "    global input_list_sum\n",
    "    \n",
    "    '''\n",
    "    현재 위치까지의 level_sum(즉, level_sum + input_list[level]의 결과)과 \n",
    "    앞으로 판단해야할 모든 자식노드들이 가진 값의 합(즉, (input_list_sum - sum(input_list[:level + 1]))의 결과)이 target보다 작다면,\n",
    "    더 이상 자식노드를 방문할 필요가 없다.\n",
    "    '''\n",
    "    if level != len(input_list) and (((input_list_sum - sum(input_list[:level + 1])) + (level_sum + input_list[level])) < target):\n",
    "        \n",
    "        #print(((input_list_sum - sum(input_list[:level + 1])) + input_list[level]))\n",
    "        return\n",
    "    \n",
    "    '''\n",
    "    이미 level_sum이 max_weight를 넘었으면, 더 이상 자식노드를 방문할 필요가 없다.\n",
    "    '''\n",
    "    if level_sum > max_weight : \n",
    "        \n",
    "        return\n",
    "    if level == len(input_list):\n",
    "        \n",
    "        if level_sum <= max_weight and level_sum >= target:\n",
    "            \n",
    "            target = level_sum\n",
    "        return\n",
    "    check_dog[level] = 1\n",
    "    level_sum = level_sum + input_list[level]\n",
    "    #print(check_dog, level_sum)\n",
    "    dfs(level + 1, level_sum)\n",
    "    check_dog[level] = 0\n",
    "    level_sum = level_sum - input_list[level]\n",
    "    #print(check_dog, level_sum)\n",
    "    dfs(level + 1, level_sum)\n",
    "\n",
    "max_weight, dog_count = list(map(int, input().split()))    \n",
    "# dog_count = 5\n",
    "# max_weight = 259\n",
    "input_list = [int(input()) for i in range(dog_count)]\n",
    "# input_list = [81, 58, 42, 33, 61]\n",
    "input_list_sum = sum(input_list)\n",
    "check_dog = {}\n",
    "target = 0\n",
    "for i in range(len(input_list)):\n",
    "    \n",
    "    check_dog[i] = 0\n",
    "#print(check_dog, \"\\n\")\n",
    "dfs(0, 0)\n",
    "print(target)\n"
   ]
  }
 ],
 "metadata": {
  "kernelspec": {
   "display_name": "Python 3",
   "language": "python",
   "name": "python3"
  },
  "language_info": {
   "codemirror_mode": {
    "name": "ipython",
    "version": 3
   },
   "file_extension": ".py",
   "mimetype": "text/x-python",
   "name": "python",
   "nbconvert_exporter": "python",
   "pygments_lexer": "ipython3",
   "version": "3.7.1"
  }
 },
 "nbformat": 4,
 "nbformat_minor": 2
}
