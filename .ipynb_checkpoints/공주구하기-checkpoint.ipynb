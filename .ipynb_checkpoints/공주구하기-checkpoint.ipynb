{
 "cells": [
  {
   "cell_type": "code",
   "execution_count": 3,
   "metadata": {},
   "outputs": [
    {
     "name": "stdout",
     "output_type": "stream",
     "text": [
      "7\n"
     ]
    }
   ],
   "source": [
    "n = 8\n",
    "k = 3\n",
    "input_list = list(range(1, n + 1))\n",
    "\n",
    "def save_princess(input_list, k):\n",
    "    \n",
    "    while True:\n",
    "        \n",
    "        if len(input_list) >= k:\n",
    "            \n",
    "            input_list.pop(k-1)\n",
    "            for i in range(k-1):\n",
    "                \n",
    "                input_list.append(input_list.pop(0))\n",
    "            \n",
    "        else:\n",
    "            \n",
    "            if k % 2 == 0:\n",
    "                \n",
    "                result = input_list[1]\n",
    "                print(result)\n",
    "                break\n",
    "            \n",
    "            else:\n",
    "                \n",
    "                result = input_list[-1]\n",
    "                print(result)\n",
    "                break\n",
    "            \n",
    "save_princess(input_list, k)"
   ]
  }
 ],
 "metadata": {
  "kernelspec": {
   "display_name": "Python 3",
   "language": "python",
   "name": "python3"
  },
  "language_info": {
   "codemirror_mode": {
    "name": "ipython",
    "version": 3
   },
   "file_extension": ".py",
   "mimetype": "text/x-python",
   "name": "python",
   "nbconvert_exporter": "python",
   "pygments_lexer": "ipython3",
   "version": "3.7.1"
  }
 },
 "nbformat": 4,
 "nbformat_minor": 2
}
