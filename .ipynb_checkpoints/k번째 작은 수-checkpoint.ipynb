{
 "cells": [
  {
   "cell_type": "code",
   "execution_count": 27,
   "metadata": {},
   "outputs": [
    {
     "name": "stdout",
     "output_type": "stream",
     "text": [
      "[4, 15, 8, 16, 6, 6, 17, 3, 10, 11, 18, 7, 14, 7, 15]\n",
      "[8, 16, 6, 6, 17, 3, 10, 11]\n",
      "[3, 6, 6, 8, 10, 11, 16, 17]\n"
     ]
    },
    {
     "data": {
      "text/plain": [
       "6"
      ]
     },
     "execution_count": 27,
     "metadata": {},
     "output_type": "execute_result"
    }
   ],
   "source": [
    "import random\n",
    "\n",
    "def k_th_number(n, s, e, k):\n",
    "    \n",
    "    try : \n",
    "        \n",
    "        # random.sample : 정수 난수 리스트 return 하는 함수 \n",
    "        random_int_list = [4, 15, 8, 16, 6, 6, 17, 3, 10, 11, 18, 7, 14, 7, 15] \n",
    "        print(random_int_list)\n",
    "        random_int_list = random_int_list[s-1:e]\n",
    "        print(random_int_list)\n",
    "        random_int_list = sorted(random_int_list)\n",
    "        print(random_int_list)\n",
    "        k_small_int = random_int_list[k-1]\n",
    "        return k_small_int\n",
    "    \n",
    "    except :\n",
    "        \n",
    "        return -1\n",
    "    \n",
    "k_th_number(15, 3, 10, 3)"
   ]
  }
 ],
 "metadata": {
  "kernelspec": {
   "display_name": "Python 3",
   "language": "python",
   "name": "python3"
  },
  "language_info": {
   "codemirror_mode": {
    "name": "ipython",
    "version": 3
   },
   "file_extension": ".py",
   "mimetype": "text/x-python",
   "name": "python",
   "nbconvert_exporter": "python",
   "pygments_lexer": "ipython3",
   "version": "3.7.1"
  }
 },
 "nbformat": 4,
 "nbformat_minor": 2
}
