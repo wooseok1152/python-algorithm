{
 "cells": [
  {
   "cell_type": "code",
   "execution_count": 45,
   "metadata": {},
   "outputs": [],
   "source": [
    "import random\n",
    "import time\n",
    "\n",
    "def digit_sum(n):\n",
    "    \n",
    "    # 시작 시간 저장\n",
    "    start = time.time()  \n",
    "    \n",
    "    # digit_list 생성\n",
    "    digit_list = [401, 100, 932, 79, 822, 233, 192, 18, 491, 965, 34, 477, 255, 948, 906, 959, 528, 949, 200, 138, 886, 66, 535, 337, 493, 154, 500, 717, 336, 99, 849, 390, 578, 659, 853, 216, 590, 417, 447, 724, 507, 208, 675, 377, 824, 780, 708, 482, 790, 127]\n",
    "#     digit_list = random.sample(range(1, 101), n)\n",
    "    print(\"digit_list :\", digit_list, \"\\n\")\n",
    "    \n",
    "    # digit_list의 요소를 전부 string으로 변환시키고, 해당 string을 요소로 가진 리스트 생성\n",
    "    string_digit_list = []\n",
    "    for i in digit_list:\n",
    "        \n",
    "        string_digit_list.append(str(i))\n",
    "        \n",
    "    print(\"string_digit_list :\", string_digit_list, \"\\n\")\n",
    "    \n",
    "    # 각 digit의 자릿수를 합하고, 그 결과를 요소로 가진 리스트 생성\n",
    "    digit_sum_result = []\n",
    "    for i in string_digit_list:\n",
    "        \n",
    "        sum = 0\n",
    "        for j in range(len(i)):\n",
    "            \n",
    "            sum = sum + int(i[j])\n",
    "        \n",
    "        digit_sum_result.append(sum)\n",
    "    \n",
    "    print(\"digit_sum_result :\", digit_sum_result, \"\\n\")\n",
    "    \n",
    "    # 자릿수 합이 높은 digit의 index를 구하고, 해당 index를 요소로 가진 리스트 생성\n",
    "    max_digit_sum = max(digit_sum_result)\n",
    "    max_digt_sum_index = []\n",
    "    for i in range(len(digit_sum_result)):\n",
    "        \n",
    "        if max_digit_sum == digit_sum_result[i]:\n",
    "            \n",
    "            max_digt_sum_index.append(i)\n",
    "            \n",
    "    # list의 index 메소드로 조건에 맞는 원소에 대한 index 구하는 법\n",
    "    '''\n",
    "    max_digit_sum_index = digit_sum_result.index(max(digit_sum_result))\n",
    "    print(max_digit_sum_index)\n",
    "    '''\n",
    "    \n",
    "    print(\"max_digt_sum_index :\", max_digt_sum_index, \"\\n\")\n",
    "    \n",
    "    # 해당 index에 대응하는 digit return하기\n",
    "    result = []\n",
    "    for i in max_digt_sum_index:\n",
    "        \n",
    "        result.append(digit_list[i])\n",
    "        \n",
    "    # 현재시각 - 시작시간 = 실행 시간    \n",
    "    print(\"time :\", time.time() - start)\n",
    "    \n",
    "    return result\n"
   ]
  },
  {
   "cell_type": "code",
   "execution_count": 46,
   "metadata": {},
   "outputs": [
    {
     "name": "stdout",
     "output_type": "stream",
     "text": [
      "digit_list : [401, 100, 932, 79, 822, 233, 192, 18, 491, 965, 34, 477, 255, 948, 906, 959, 528, 949, 200, 138, 886, 66, 535, 337, 493, 154, 500, 717, 336, 99, 849, 390, 578, 659, 853, 216, 590, 417, 447, 724, 507, 208, 675, 377, 824, 780, 708, 482, 790, 127] \n",
      "\n",
      "string_digit_list : ['401', '100', '932', '79', '822', '233', '192', '18', '491', '965', '34', '477', '255', '948', '906', '959', '528', '949', '200', '138', '886', '66', '535', '337', '493', '154', '500', '717', '336', '99', '849', '390', '578', '659', '853', '216', '590', '417', '447', '724', '507', '208', '675', '377', '824', '780', '708', '482', '790', '127'] \n",
      "\n",
      "digit_sum_result : [5, 1, 14, 16, 12, 8, 12, 9, 14, 20, 7, 18, 12, 21, 15, 23, 15, 22, 2, 12, 22, 12, 13, 13, 16, 10, 5, 15, 12, 18, 21, 12, 20, 20, 16, 9, 14, 12, 15, 13, 12, 10, 18, 17, 14, 15, 15, 14, 16, 10] \n",
      "\n",
      "max_digt_sum_index : [15] \n",
      "\n",
      "time : 0.0005002021789550781\n"
     ]
    },
    {
     "data": {
      "text/plain": [
       "[959]"
      ]
     },
     "execution_count": 46,
     "metadata": {},
     "output_type": "execute_result"
    }
   ],
   "source": [
    "digit_sum(3)"
   ]
  },
  {
   "cell_type": "code",
   "execution_count": 2,
   "metadata": {},
   "outputs": [
    {
     "name": "stdout",
     "output_type": "stream",
     "text": [
      "digit_list : [401, 100, 932, 79, 822, 233, 192, 18, 491, 965, 34, 477, 255, 948, 906, 959, 528, 949, 200, 138, 886, 66, 535, 337, 493, 154, 500, 717, 336, 99, 849, 390, 578, 659, 853, 216, 590, 417, 447, 724, 507, 208, 675, 377, 824, 780, 708, 482, 790, 127] \n",
      "\n",
      "[5, 1, 14, 16, 12, 8, 12, 9, 14, 20, 7, 18, 12, 21, 15, 23, 15, 22, 2, 12, 22, 12, 13, 13, 16, 10, 5, 15, 12, 18, 21, 12, 20, 20, 16, 9, 14, 12, 15, 13, 12, 10, 18, 17, 14, 15, 15, 14, 16, 10]\n",
      "959\n"
     ]
    }
   ],
   "source": [
    "# 해설 답안(while문으로 각 자릿수의 합을 구하는 알고리즘을 통해 최적화를 할 수 있다.)\n",
    "import random\n",
    "import time\n",
    "\n",
    "def digit_sum2(n):\n",
    "    \n",
    "    # digit_list 생성\n",
    "    digit_list = [401, 100, 932, 79, 822, 233, 192, 18, 491, 965, 34, 477, 255, 948, 906, 959, 528, 949, 200, 138, 886, 66, 535, 337, 493, 154, 500, 717, 336, 99, 849, 390, 578, 659, 853, 216, 590, 417, 447, 724, 507, 208, 675, 377, 824, 780, 708, 482, 790, 127]\n",
    "#     digit_list = random.sample(range(1, 101), n)\n",
    "    print(\"digit_list :\", digit_list, \"\\n\")\n",
    "    \n",
    "    digit_sum_list = []\n",
    "    \n",
    "    # 해당 for문 내 while절이 각 자릿수의 합을 구하는 알고리즘이다.\n",
    "    for i in digit_list:\n",
    "        \n",
    "        sum = 0\n",
    "        while i > 0:\n",
    "            \n",
    "            remainder = i%10\n",
    "            # remainder들을 합하면 자릿수의 합을 구할 수 있는 것이다.\n",
    "            sum = sum + remainder\n",
    "            i = i//10\n",
    "            \n",
    "        digit_sum_list.append(sum)\n",
    "        \n",
    "    print(digit_sum_list)\n",
    "    \n",
    "    max_value = -2147000000\n",
    "    for i in range(len(digit_sum_list)):\n",
    "        \n",
    "        if digit_sum_list[i] > max_value:\n",
    "            \n",
    "            max_value = digit_sum_list[i]\n",
    "            max_value_index = i\n",
    "    \n",
    "    print(digit_list[max_value_index])\n",
    "    \n",
    "digit_sum2(10)"
   ]
  }
 ],
 "metadata": {
  "kernelspec": {
   "display_name": "Python 3",
   "language": "python",
   "name": "python3"
  },
  "language_info": {
   "codemirror_mode": {
    "name": "ipython",
    "version": 3
   },
   "file_extension": ".py",
   "mimetype": "text/x-python",
   "name": "python",
   "nbconvert_exporter": "python",
   "pygments_lexer": "ipython3",
   "version": "3.7.1"
  }
 },
 "nbformat": 4,
 "nbformat_minor": 2
}
