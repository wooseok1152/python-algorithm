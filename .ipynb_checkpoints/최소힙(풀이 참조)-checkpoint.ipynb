{
 "cells": [
  {
   "cell_type": "code",
   "execution_count": null,
   "metadata": {},
   "outputs": [],
   "source": [
    "import sys\n",
    "'''heapq는 list를 '최소heap'자료구조로 만드는 내장 라이브러리다. 이것을 활용하면 매우 편히 heap 자료구조를 다룰 수 있다.'''\n",
    "import heapq as hq\n",
    "\n",
    "sys.stdin = open(r\"C:\\Users\\my\\Desktop\\Documents\\파이썬 알고리즘 문제풀이(코딩테스트 대비)\\섹션 5\\10. 최소힙\\in1.txt\")\n",
    "\n",
    "heap = []\n",
    "\n",
    "while True:\n",
    "    \n",
    "    target = int(input())\n",
    "    if target == -1:\n",
    "        \n",
    "        break\n",
    "        sys.exit(0)  \n",
    "    elif target == 0:\n",
    "        \n",
    "        if len(heap) == 0:\n",
    "            \n",
    "            print(-1)\n",
    "        else :\n",
    "            \n",
    "            '''\n",
    "            앞서 말했듯이 heapq는 list를 '최소heap'자료구조로 만든다.\n",
    "            'heappop()'함수는 인자로 list를 받는다.\n",
    "            해당 함수는 root노드의 값을 반환하고, 해당 list에 heapify를 실시한다. \n",
    "            '''\n",
    "            print(hq.heappop(heap))\n",
    "    else:\n",
    "        \n",
    "        '''\n",
    "        'heappush()'함수는 인자로 list와 해당 list에 append할 값을 받는다.\n",
    "        해당 함수는 list에 지정한 값을 append하고, 해당 list에 heapify를 실시한다.\n",
    "        '''\n",
    "        hq.heappush(heap, target)\n",
    "            "
   ]
  }
 ],
 "metadata": {
  "kernelspec": {
   "display_name": "Python 3",
   "language": "python",
   "name": "python3"
  },
  "language_info": {
   "codemirror_mode": {
    "name": "ipython",
    "version": 3
   },
   "file_extension": ".py",
   "mimetype": "text/x-python",
   "name": "python",
   "nbconvert_exporter": "python",
   "pygments_lexer": "ipython3",
   "version": "3.7.1"
  }
 },
 "nbformat": 4,
 "nbformat_minor": 2
}
