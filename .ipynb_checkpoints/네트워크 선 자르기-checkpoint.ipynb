{
 "cells": [
  {
   "cell_type": "code",
   "execution_count": 2,
   "metadata": {},
   "outputs": [
    {
     "name": "stdout",
     "output_type": "stream",
     "text": [
      "21\n"
     ]
    }
   ],
   "source": [
    "import sys\n",
    "\n",
    "sys.stdin = open(r\"\")\n",
    "\n",
    "input_value = int(input())\n",
    "memo_for_result = [0] * (input_value + 1)\n",
    "memo_for_result[1] = 1\n",
    "memo_for_result[2] = 2\n",
    "\n",
    "for i in range(3, input_value + 1):\n",
    "    \n",
    "    memo_for_result[i] = memo_for_result[i - 1] + memo_for_result[i - 2]\n",
    "    \n",
    "print(memo_for_result[input_value])"
   ]
  }
 ],
 "metadata": {
  "kernelspec": {
   "display_name": "Python 3",
   "language": "python",
   "name": "python3"
  },
  "language_info": {
   "codemirror_mode": {
    "name": "ipython",
    "version": 3
   },
   "file_extension": ".py",
   "mimetype": "text/x-python",
   "name": "python",
   "nbconvert_exporter": "python",
   "pygments_lexer": "ipython3",
   "version": "3.7.1"
  }
 },
 "nbformat": 4,
 "nbformat_minor": 2
}
