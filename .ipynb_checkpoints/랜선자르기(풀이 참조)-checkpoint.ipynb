{
 "cells": [
  {
   "cell_type": "code",
   "execution_count": 33,
   "metadata": {},
   "outputs": [
    {
     "name": "stdout",
     "output_type": "stream",
     "text": [
      "10695848\n",
      "0.06001400947570801\n"
     ]
    }
   ],
   "source": [
    "import sys\n",
    "\n",
    "sys.stdin = open(r\"C:\\Users\\my\\Desktop\\Documents\\파이썬 알고리즘 문제풀이(코딩테스트 대비)\\섹션 4\\2. 랜선자르기\\in1.txt\")\n",
    "k, n = list(map(int, input().split()))\n",
    "examples = []\n",
    "for i in range(k):\n",
    "    \n",
    "    examples.append(int(input()))\n",
    "\n",
    "\n",
    "def cut_line(k, n, examples):\n",
    "    \n",
    "    right = max(examples)\n",
    "    left = 0\n",
    "    middle = (right + left)//2\n",
    "    \n",
    "\n",
    "    while left != right:\n",
    "        \n",
    "        count = 0\n",
    "        for i in examples:\n",
    "            \n",
    "            moak = i//middle\n",
    "            count = count + moak\n",
    "        \n",
    "        if count < n:\n",
    "            \n",
    "            # middle값 이상의 값들은 절대 답이 될 수 없다. 그래서 right는 'middle - 1'이 된다.\n",
    "            right = middle - 1\n",
    "            middle = (right + left)//2\n",
    "        \n",
    "        if count >= n:\n",
    "            \n",
    "            # middle값 이하의 값들은 절대 답이 될 수 없다. 그래서 left는 'middle + 1'이 된다.\n",
    "            left = middle + 1\n",
    "            middle = (right + left)//2\n",
    "            \n",
    "    result = middle\n",
    "    print(result)\n",
    "    \n",
    "cut_line(k, n, examples)\n",
    "    \n",
    "\n"
   ]
  },
  {
   "cell_type": "code",
   "execution_count": null,
   "metadata": {},
   "outputs": [],
   "source": []
  },
  {
   "cell_type": "code",
   "execution_count": null,
   "metadata": {},
   "outputs": [],
   "source": []
  },
  {
   "cell_type": "code",
   "execution_count": null,
   "metadata": {},
   "outputs": [],
   "source": []
  },
  {
   "cell_type": "code",
   "execution_count": null,
   "metadata": {},
   "outputs": [],
   "source": []
  },
  {
   "cell_type": "code",
   "execution_count": null,
   "metadata": {},
   "outputs": [],
   "source": []
  },
  {
   "cell_type": "code",
   "execution_count": null,
   "metadata": {},
   "outputs": [],
   "source": []
  },
  {
   "cell_type": "code",
   "execution_count": null,
   "metadata": {},
   "outputs": [],
   "source": []
  },
  {
   "cell_type": "code",
   "execution_count": null,
   "metadata": {},
   "outputs": [],
   "source": []
  },
  {
   "cell_type": "code",
   "execution_count": null,
   "metadata": {},
   "outputs": [],
   "source": []
  },
  {
   "cell_type": "code",
   "execution_count": null,
   "metadata": {},
   "outputs": [],
   "source": []
  },
  {
   "cell_type": "code",
   "execution_count": null,
   "metadata": {},
   "outputs": [],
   "source": []
  },
  {
   "cell_type": "code",
   "execution_count": null,
   "metadata": {},
   "outputs": [],
   "source": []
  },
  {
   "cell_type": "code",
   "execution_count": null,
   "metadata": {},
   "outputs": [],
   "source": []
  },
  {
   "cell_type": "code",
   "execution_count": null,
   "metadata": {},
   "outputs": [],
   "source": []
  },
  {
   "cell_type": "code",
   "execution_count": null,
   "metadata": {},
   "outputs": [],
   "source": []
  },
  {
   "cell_type": "code",
   "execution_count": null,
   "metadata": {},
   "outputs": [],
   "source": []
  },
  {
   "cell_type": "code",
   "execution_count": null,
   "metadata": {},
   "outputs": [],
   "source": []
  },
  {
   "cell_type": "code",
   "execution_count": null,
   "metadata": {},
   "outputs": [],
   "source": []
  },
  {
   "cell_type": "code",
   "execution_count": null,
   "metadata": {},
   "outputs": [],
   "source": []
  },
  {
   "cell_type": "code",
   "execution_count": null,
   "metadata": {},
   "outputs": [],
   "source": []
  },
  {
   "cell_type": "code",
   "execution_count": null,
   "metadata": {},
   "outputs": [],
   "source": []
  },
  {
   "cell_type": "code",
   "execution_count": null,
   "metadata": {},
   "outputs": [
    {
     "name": "stdout",
     "output_type": "stream",
     "text": [
      "5 10\n",
      "[273, 401, 753, 345, 105]\n"
     ]
    }
   ],
   "source": [
    "import sys\n",
    "\n",
    "sys.stdin = open(r\"C:\\Users\\my\\Desktop\\Documents\\파이썬 알고리즘 문제풀이(코딩테스트 대비)\\섹션 4\\2. 랜선자르기\\in1.txt\")\n",
    "lines = sys.stdin.readlines()\n",
    "for i in range(len(lines)):\n",
    "    \n",
    "    lines[i] = lines[i].strip()\n",
    "    \n",
    "k, n = lines[0].split()\n",
    "k = int(a)\n",
    "n = int(b)\n",
    "\n",
    "examples = lines[1:]\n",
    "examples = list(map(int, examples))\n",
    "\n",
    "print(k, n)\n",
    "print(examples)\n",
    "\n",
    "def cut_line(k, n, examples):\n",
    "    \n",
    "    right = max(examples)\n",
    "    left = 0\n",
    "    middle = (right + left)//2\n",
    "    count = 0\n",
    "\n",
    "    while left < right :\n",
    "        \n",
    "        for i in examples:\n",
    "            \n",
    "            moak = i//middle\n",
    "            count = count + moak\n",
    "        \n",
    "        if count < 11:\n",
    "            \n",
    "            right = middle\n",
    "            middle = (right + left)//2\n",
    "        \n",
    "        if count >= 11:\n",
    "            \n",
    "            left = middle\n",
    "            middle = (right + left)//2\n",
    "            \n",
    "    result = middle\n",
    "    print(result)\n",
    "    \n",
    "cut_line(k, n, examples)\n",
    "    \n",
    "\n"
   ]
  },
  {
   "cell_type": "code",
   "execution_count": null,
   "metadata": {},
   "outputs": [],
   "source": []
  }
 ],
 "metadata": {
  "kernelspec": {
   "display_name": "Python 3",
   "language": "python",
   "name": "python3"
  },
  "language_info": {
   "codemirror_mode": {
    "name": "ipython",
    "version": 3
   },
   "file_extension": ".py",
   "mimetype": "text/x-python",
   "name": "python",
   "nbconvert_exporter": "python",
   "pygments_lexer": "ipython3",
   "version": "3.7.1"
  }
 },
 "nbformat": 4,
 "nbformat_minor": 2
}
