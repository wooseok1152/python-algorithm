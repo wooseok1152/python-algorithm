{
 "cells": [
  {
   "cell_type": "code",
   "execution_count": 16,
   "metadata": {},
   "outputs": [
    {
     "name": "stdout",
     "output_type": "stream",
     "text": [
      "4\n"
     ]
    }
   ],
   "source": [
    "'''\n",
    "이중 for문을 사용하여, 현재 검사되는 값과 이전에 검사 되었던 모든 값의 크기를 비교하는 것이 핵심이다.\n",
    "'''\n",
    "\n",
    "import sys\n",
    "\n",
    "sys.stdin = open(r\"C:\\Users\\my\\Desktop\\Documents\\파이썬 알고리즘 문제풀이(코딩테스트 대비)\\섹션 8\\4. 최대부분증가수열\\in2.txt\")\n",
    "\n",
    "input_list_count = int(input())\n",
    "input_list = list(map(int, input().split()))\n",
    "input_list.insert(0, 0)\n",
    "memo = [0] * (len(input_list))\n",
    "# print(input_list)\n",
    "memo[1] = 1\n",
    "# print(memo, \"\\n\")\n",
    "\n",
    "for i in range(2, len(input_list)):\n",
    "    \n",
    "    target = input_list[i]\n",
    "    collect = []\n",
    "    for j in range(i-1, 0, -1):\n",
    "        \n",
    "        if target > input_list[j]:\n",
    "            \n",
    "            collect.append(memo[j] + 1)\n",
    "    # print(collect)\n",
    "    try :\n",
    "        memo[i] = max(collect)\n",
    "    except:\n",
    "        memo[i] = 1\n",
    "    \n",
    "print(max(memo))"
   ]
  }
 ],
 "metadata": {
  "kernelspec": {
   "display_name": "Python 3",
   "language": "python",
   "name": "python3"
  },
  "language_info": {
   "codemirror_mode": {
    "name": "ipython",
    "version": 3
   },
   "file_extension": ".py",
   "mimetype": "text/x-python",
   "name": "python",
   "nbconvert_exporter": "python",
   "pygments_lexer": "ipython3",
   "version": "3.7.1"
  }
 },
 "nbformat": 4,
 "nbformat_minor": 2
}
