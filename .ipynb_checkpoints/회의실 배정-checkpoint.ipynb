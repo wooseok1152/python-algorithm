{
 "cells": [
  {
   "cell_type": "code",
   "execution_count": 6,
   "metadata": {},
   "outputs": [
    {
     "name": "stdout",
     "output_type": "stream",
     "text": [
      "[[2, 3], [3, 5], [4, 6], [5, 7], [1, 4]]\n",
      "3\n"
     ]
    }
   ],
   "source": [
    "import sys\n",
    "sys.stdin = open(r\"C:\\Users\\my\\Desktop\\Documents\\파이썬 알고리즘 문제풀이(코딩테스트 대비)\\섹션 4\\5. 회의실 배정\\in1.txt\", \"r\")\n",
    "n = int(input())\n",
    "input_list1 = []\n",
    "for i in range(n):\n",
    "    \n",
    "    element = list(map(int, input().split()))\n",
    "    input_list1.append(element)\n",
    "    \n",
    "def decide_meeting_room_count():\n",
    "    \n",
    "    input_list = sorted(input_list1, key = lambda i : i[1])\n",
    "    print(input_list)\n",
    "    count = 1\n",
    "    choice = input_list[0]\n",
    "    for i in range(1, len(input_list)):\n",
    "        \n",
    "        if choice[1] <= input_list[i][0]:\n",
    "            \n",
    "            count = count + 1\n",
    "            choice = input_list[i]\n",
    "    \n",
    "    print(count)\n",
    "    \n",
    "decide_meeting_room_count()\n",
    "\n"
   ]
  }
 ],
 "metadata": {
  "kernelspec": {
   "display_name": "Python 3",
   "language": "python",
   "name": "python3"
  },
  "language_info": {
   "codemirror_mode": {
    "name": "ipython",
    "version": 3
   },
   "file_extension": ".py",
   "mimetype": "text/x-python",
   "name": "python",
   "nbconvert_exporter": "python",
   "pygments_lexer": "ipython3",
   "version": "3.7.1"
  }
 },
 "nbformat": 4,
 "nbformat_minor": 2
}
