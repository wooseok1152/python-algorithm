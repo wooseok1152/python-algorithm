{
 "cells": [
  {
   "cell_type": "code",
   "execution_count": 25,
   "metadata": {},
   "outputs": [
    {
     "name": "stdout",
     "output_type": "stream",
     "text": [
      "[51, 14, 88, 92, 22, 60, 56, 1, 36, 54]\n",
      "max_value_index : 3 max_value : 92\n"
     ]
    }
   ],
   "source": [
    "'''최댓값 구하는 알고리즘'''\n",
    "import random\n",
    "\n",
    "test_list = random.sample(range(1, 100), 10)\n",
    "print(test_list)\n",
    "\n",
    "max_value = -2147000000\n",
    "for i in range(len(test_list)):\n",
    "\n",
    "    if test_list[i] > max_value:\n",
    "\n",
    "        max_value = test_list[i]\n",
    "        max_value_index = i\n",
    "\n",
    "print(\"max_value_index :\", max_value_index,\"max_value :\", max_value)"
   ]
  },
  {
   "cell_type": "code",
   "execution_count": 27,
   "metadata": {},
   "outputs": [
    {
     "name": "stdout",
     "output_type": "stream",
     "text": [
      "[40, 47, 23, 60, 84, 79, 99, 2, 24, 70]\n",
      "min_value_index : 7 min_value : 2\n"
     ]
    }
   ],
   "source": [
    "'''최솟값 구하는 알고리즘'''\n",
    "import random\n",
    "\n",
    "test_list = random.sample(range(1, 100), 10)\n",
    "print(test_list)\n",
    "\n",
    "min_value = 2147000000\n",
    "for i in range(len(test_list)):\n",
    "\n",
    "    if test_list[i] < min_value:\n",
    "\n",
    "        min_value = test_list[i]\n",
    "        min_value_index = i\n",
    "\n",
    "print(\"min_value_index :\", min_value_index,\"min_value :\", min_value)"
   ]
  }
 ],
 "metadata": {
  "kernelspec": {
   "display_name": "Python 3",
   "language": "python",
   "name": "python3"
  },
  "language_info": {
   "codemirror_mode": {
    "name": "ipython",
    "version": 3
   },
   "file_extension": ".py",
   "mimetype": "text/x-python",
   "name": "python",
   "nbconvert_exporter": "python",
   "pygments_lexer": "ipython3",
   "version": "3.7.1"
  }
 },
 "nbformat": 4,
 "nbformat_minor": 2
}
