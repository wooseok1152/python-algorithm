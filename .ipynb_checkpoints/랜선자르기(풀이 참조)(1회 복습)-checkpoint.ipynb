{
 "cells": [
  {
   "cell_type": "code",
   "execution_count": 33,
   "metadata": {},
   "outputs": [
    {
     "name": "stdout",
     "output_type": "stream",
     "text": [
      "10695848\n",
      "0.06001400947570801\n"
     ]
    }
   ],
   "source": [
    "import sys\n",
    "\n",
    "sys.stdin = open(r\"C:\\Users\\my\\Desktop\\Documents\\파이썬 알고리즘 문제풀이(코딩테스트 대비)\\섹션 4\\2. 랜선자르기\\in1.txt\")\n",
    "k, n = list(map(int, input().split()))\n",
    "examples = []\n",
    "for i in range(k):\n",
    "    \n",
    "    examples.append(int(input()))\n",
    "\n",
    "\n",
    "def cut_line(k, n, examples):\n",
    "    \n",
    "    right = max(examples)\n",
    "    left = 0\n",
    "    middle = (right + left)//2\n",
    "    \n",
    "\n",
    "    while left != right:\n",
    "        \n",
    "        count = 0\n",
    "        for i in examples:\n",
    "            \n",
    "            moak = i//middle\n",
    "            count = count + moak\n",
    "        \n",
    "        if count < n:\n",
    "            \n",
    "            # middle값 이상의 값들은 절대 답이 될 수 없다. 그래서 right는 'middle - 1'이 된다.\n",
    "            right = middle - 1\n",
    "            middle = (right + left)//2\n",
    "        \n",
    "        if count >= n:\n",
    "            \n",
    "            # middle값 이하의 값들은 절대 답이 될 수 없다. 그래서 left는 'middle + 1'이 된다.\n",
    "            left = middle + 1\n",
    "            middle = (right + left)//2\n",
    "            \n",
    "    result = middle\n",
    "    print(result)\n",
    "    \n",
    "cut_line(k, n, examples)\n",
    "    \n",
    "\n"
   ]
  },
  {
   "cell_type": "code",
   "execution_count": null,
   "metadata": {},
   "outputs": [],
   "source": [
    "'''1회 복습'''\n",
    "\n",
    "import sys\n",
    "\n",
    "sys.stdin = open(r\"C:\\Users\\user\\Desktop\\Documents\\파이썬 알고리즘 문제풀이(코딩테스트 대비)\\섹션 4\\2. 랜선자르기\\in1.txt\")\n",
    "\n",
    "input_count, target = list(map(int, input().split()))\n",
    "input_list = [int(input()) for i in range(input_count)]\n",
    "min_value = 1\n",
    "max_value = max(input_list)\n",
    "mid_value = (min_value + max_value)//2\n",
    "\n",
    "while True:\n",
    "    \n",
    "    if min_value > max_value:\n",
    "        \n",
    "        break\n",
    "    count = 0\n",
    "    for i in input_list:\n",
    "        \n",
    "        divided_result = i//mid_value\n",
    "        count = count + divided_result\n",
    "    if count < target:\n",
    "        \n",
    "        max_value = mid_value - 1\n",
    "        mid_value = (min_value + max_value)//2\n",
    "        \n",
    "    else:\n",
    "        \n",
    "        min_value = mid_value + 1\n",
    "        mid_value = (min_value + max_value)//2\n",
    "    \n",
    "print(mid_value)"
   ]
  }
 ],
 "metadata": {
  "kernelspec": {
   "display_name": "Python 3",
   "language": "python",
   "name": "python3"
  },
  "language_info": {
   "codemirror_mode": {
    "name": "ipython",
    "version": 3
   },
   "file_extension": ".py",
   "mimetype": "text/x-python",
   "name": "python",
   "nbconvert_exporter": "python",
   "pygments_lexer": "ipython3",
   "version": "3.7.1"
  }
 },
 "nbformat": 4,
 "nbformat_minor": 2
}
