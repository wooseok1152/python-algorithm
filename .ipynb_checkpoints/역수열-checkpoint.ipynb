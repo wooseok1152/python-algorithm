{
 "cells": [
  {
   "cell_type": "code",
   "execution_count": 12,
   "metadata": {},
   "outputs": [
    {
     "name": "stdout",
     "output_type": "stream",
     "text": [
      "4 8 6 2 5 1 3 7 \n"
     ]
    }
   ],
   "source": [
    "'''list의 insert 메소드를 사용하는 것이 핵심이다.'''\n",
    "import sys\n",
    "\n",
    "#sys.stdin = open(r\"C:\\Users\\my\\Desktop\\Documents\\파이썬 알고리즘 문제풀이(코딩테스트 대비)\\섹션 4\\10. 역수열\\in1.txt\")\n",
    "\n",
    "n = int(input())\n",
    "input_list = list(map(int, input().split()))\n",
    "result_list = []\n",
    "\n",
    "for i in range(n):\n",
    "    \n",
    "    current_number = n - i\n",
    "    current_input_list_index = n - i - 1\n",
    "    result_list.insert(input_list[current_input_list_index], current_number)\n",
    "    \n",
    "result = \"\"\n",
    "for i in result_list:\n",
    "    \n",
    "    result = result + str(i) + \" \"\n",
    "    \n",
    "print(result)"
   ]
  }
 ],
 "metadata": {
  "kernelspec": {
   "display_name": "Python 3",
   "language": "python",
   "name": "python3"
  },
  "language_info": {
   "codemirror_mode": {
    "name": "ipython",
    "version": 3
   },
   "file_extension": ".py",
   "mimetype": "text/x-python",
   "name": "python",
   "nbconvert_exporter": "python",
   "pygments_lexer": "ipython3",
   "version": "3.7.1"
  }
 },
 "nbformat": 4,
 "nbformat_minor": 2
}
