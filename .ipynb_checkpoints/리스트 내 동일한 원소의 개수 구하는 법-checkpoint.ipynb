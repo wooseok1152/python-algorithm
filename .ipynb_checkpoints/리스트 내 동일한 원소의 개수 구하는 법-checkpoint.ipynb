{
 "cells": [
  {
   "cell_type": "code",
   "execution_count": 3,
   "metadata": {},
   "outputs": [
    {
     "name": "stdout",
     "output_type": "stream",
     "text": [
      "same_value_count : [(8, 11083), (5, 11107), (9, 11062), (4, 11176), (1, 11092), (6, 11198), (3, 10907), (2, 11304), (7, 11071)] \n",
      "\n",
      "0.3958406448364258\n"
     ]
    }
   ],
   "source": [
    "import time\n",
    "\n",
    "start = time.time()\n",
    "a = np.random.choice(range(1, 10), 100000)\n",
    "\n",
    "checked_value = []\n",
    "same_value_count = []\n",
    "for i in range(len(a)):\n",
    "    \n",
    "    count = 0\n",
    "    if a[i] in checked_value:\n",
    "\n",
    "        continue\n",
    "        \n",
    "    checked_value.append(a[i]) \n",
    "    for j in range(i, len(a)):\n",
    "        \n",
    "        if a[i] == a[j]:\n",
    "            \n",
    "            count = count + 1\n",
    "            \n",
    "    same_value_count.append((a[i], count))\n",
    "\n",
    "print(\"same_value_count :\", same_value_count, \"\\n\")\n",
    "print(time.time() - start)\n",
    "\n",
    "        \n",
    "\n",
    "                \n",
    "        "
   ]
  },
  {
   "cell_type": "code",
   "execution_count": null,
   "metadata": {},
   "outputs": [],
   "source": []
  }
 ],
 "metadata": {
  "kernelspec": {
   "display_name": "Python 3",
   "language": "python",
   "name": "python3"
  },
  "language_info": {
   "codemirror_mode": {
    "name": "ipython",
    "version": 3
   },
   "file_extension": ".py",
   "mimetype": "text/x-python",
   "name": "python",
   "nbconvert_exporter": "python",
   "pygments_lexer": "ipython3",
   "version": "3.7.1"
  }
 },
 "nbformat": 4,
 "nbformat_minor": 2
}
