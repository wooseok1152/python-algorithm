{
 "cells": [
  {
   "cell_type": "code",
   "execution_count": 14,
   "metadata": {},
   "outputs": [
    {
     "name": "stdout",
     "output_type": "stream",
     "text": [
      "379\n"
     ]
    }
   ],
   "source": [
    "import sys\n",
    "sys.stdin = open(\"in1.txt\", \"r\")\n",
    "n = int(input())\n",
    "a = [list(map(int, input().split())) for _ in range(n)]\n",
    "\n",
    "def apple_tree():\n",
    "    \n",
    "    result_sum = []\n",
    "    left = (len(input_list)//2)\n",
    "    right = (len(input_list)//2)+1\n",
    "    \n",
    "    for i in range((len(input_list)//2)+1):\n",
    "        \n",
    "        summ = 0\n",
    "        summ = summ + sum(input_list[i][left:right])\n",
    "        result_sum.append(summ)\n",
    "        left = left -1\n",
    "        right = right + 1\n",
    "        \n",
    "    left = 1\n",
    "    right = len(input_list)-1\n",
    "    \n",
    "    \n",
    "    for j in range((len(input_list)//2)+1, len(input_list)):\n",
    "\n",
    "        summ = 0\n",
    "        summ = summ + sum(input_list[j][left : right])\n",
    "        result_sum.append(summ)\n",
    "        left = left + 1\n",
    "        right = right - 1\n",
    "    \n",
    "    final_sum = sum(result_sum)\n",
    "    print(final_sum)\n",
    "              \n",
    "apple_tree()"
   ]
  }
 ],
 "metadata": {
  "kernelspec": {
   "display_name": "Python 3",
   "language": "python",
   "name": "python3"
  },
  "language_info": {
   "codemirror_mode": {
    "name": "ipython",
    "version": 3
   },
   "file_extension": ".py",
   "mimetype": "text/x-python",
   "name": "python",
   "nbconvert_exporter": "python",
   "pygments_lexer": "ipython3",
   "version": "3.7.1"
  }
 },
 "nbformat": 4,
 "nbformat_minor": 2
}
